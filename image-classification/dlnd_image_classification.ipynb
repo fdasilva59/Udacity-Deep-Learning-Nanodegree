{
 "cells": [
  {
   "cell_type": "code",
   "execution_count": null,
   "metadata": {
    "collapsed": false,
    "deletable": true,
    "editable": true
   },
   "outputs": [],
   "source": [
    "# My add-on : we need to install tqdm package which is missing in the FloydHub environment\n",
    "!pip install tqdm\n",
    "#!pip uninstall -y tqdm"
   ]
  },
  {
   "cell_type": "code",
   "execution_count": 1,
   "metadata": {
    "collapsed": false,
    "deletable": true,
    "editable": true
   },
   "outputs": [
    {
     "name": "stdout",
     "output_type": "stream",
     "text": [
      "Sun May 14 21:31:59 2017       \r\n",
      "+-----------------------------------------------------------------------------+\r\n",
      "| NVIDIA-SMI 367.57                 Driver Version: 367.57                    |\r\n",
      "|-------------------------------+----------------------+----------------------+\r\n",
      "| GPU  Name        Persistence-M| Bus-Id        Disp.A | Volatile Uncorr. ECC |\r\n",
      "| Fan  Temp  Perf  Pwr:Usage/Cap|         Memory-Usage | GPU-Util  Compute M. |\r\n",
      "|===============================+======================+======================|\r\n",
      "|   0  Tesla K80           Off  | 0000:00:1E.0     Off |                    0 |\r\n",
      "| N/A   49C    P8    30W / 149W |      0MiB / 11439MiB |      0%      Default |\r\n",
      "+-------------------------------+----------------------+----------------------+\r\n",
      "                                                                               \r\n",
      "+-----------------------------------------------------------------------------+\r\n",
      "| Processes:                                                       GPU Memory |\r\n",
      "|  GPU       PID  Type  Process name                               Usage      |\r\n",
      "|=============================================================================|\r\n",
      "|  No running processes found                                                 |\r\n",
      "+-----------------------------------------------------------------------------+\r\n"
     ]
    }
   ],
   "source": [
    "# My add-on : Check the GPU info (Some Memory GPU should be used)\n",
    "!nvidia-smi"
   ]
  },
  {
   "cell_type": "markdown",
   "metadata": {
    "collapsed": true,
    "deletable": true,
    "editable": true
   },
   "source": [
    "# Image Classification\n",
    "In this project, you'll classify images from the [CIFAR-10 dataset](https://www.cs.toronto.edu/~kriz/cifar.html).  The dataset consists of airplanes, dogs, cats, and other objects. You'll preprocess the images, then train a convolutional neural network on all the samples. The images need to be normalized and the labels need to be one-hot encoded.  You'll get to apply what you learned and build a convolutional, max pooling, dropout, and fully connected layers.  At the end, you'll get to see your neural network's predictions on the sample images.\n",
    "## Get the Data\n",
    "Run the following cell to download the [CIFAR-10 dataset for python](https://www.cs.toronto.edu/~kriz/cifar-10-python.tar.gz)."
   ]
  },
  {
   "cell_type": "code",
   "execution_count": 2,
   "metadata": {
    "collapsed": false,
    "deletable": true,
    "editable": true
   },
   "outputs": [
    {
     "name": "stdout",
     "output_type": "stream",
     "text": [
      "All files found!\n"
     ]
    }
   ],
   "source": [
    "\"\"\"\n",
    "DON'T MODIFY ANYTHING IN THIS CELL THAT IS BELOW THIS LINE\n",
    "\"\"\"\n",
    "from urllib.request import urlretrieve\n",
    "from os.path import isfile, isdir\n",
    "from tqdm import tqdm\n",
    "import problem_unittests as tests\n",
    "import tarfile\n",
    "\n",
    "cifar10_dataset_folder_path = 'cifar-10-batches-py'\n",
    "\n",
    "# Use Floyd's cifar-10 dataset if present\n",
    "floyd_cifar10_location = '/input/cifar-10/python.tar.gz'\n",
    "if isfile(floyd_cifar10_location):\n",
    "    tar_gz_path = floyd_cifar10_location\n",
    "else:\n",
    "    tar_gz_path = 'cifar-10-python.tar.gz'\n",
    "\n",
    "class DLProgress(tqdm):\n",
    "    last_block = 0\n",
    "\n",
    "    def hook(self, block_num=1, block_size=1, total_size=None):\n",
    "        self.total = total_size\n",
    "        self.update((block_num - self.last_block) * block_size)\n",
    "        self.last_block = block_num\n",
    "\n",
    "if not isfile(tar_gz_path):\n",
    "    with DLProgress(unit='B', unit_scale=True, miniters=1, desc='CIFAR-10 Dataset') as pbar:\n",
    "        urlretrieve(\n",
    "            'https://www.cs.toronto.edu/~kriz/cifar-10-python.tar.gz',\n",
    "            tar_gz_path,\n",
    "            pbar.hook)\n",
    "\n",
    "if not isdir(cifar10_dataset_folder_path):\n",
    "    with tarfile.open(tar_gz_path) as tar:\n",
    "        tar.extractall()\n",
    "        tar.close()\n",
    "\n",
    "\n",
    "tests.test_folder_path(cifar10_dataset_folder_path)"
   ]
  },
  {
   "cell_type": "markdown",
   "metadata": {
    "deletable": true,
    "editable": true
   },
   "source": [
    "## Explore the Data\n",
    "The dataset is broken into batches to prevent your machine from running out of memory.  The CIFAR-10 dataset consists of 5 batches, named `data_batch_1`, `data_batch_2`, etc.. Each batch contains the labels and images that are one of the following:\n",
    "* airplane\n",
    "* automobile\n",
    "* bird\n",
    "* cat\n",
    "* deer\n",
    "* dog\n",
    "* frog\n",
    "* horse\n",
    "* ship\n",
    "* truck\n",
    "\n",
    "Understanding a dataset is part of making predictions on the data.  Play around with the code cell below by changing the `batch_id` and `sample_id`. The `batch_id` is the id for a batch (1-5). The `sample_id` is the id for a image and label pair in the batch.\n",
    "\n",
    "Ask yourself \"What are all possible labels?\", \"What is the range of values for the image data?\", \"Are the labels in order or random?\".  Answers to questions like these will help you preprocess the data and end up with better predictions."
   ]
  },
  {
   "cell_type": "code",
   "execution_count": 3,
   "metadata": {
    "collapsed": false,
    "deletable": true,
    "editable": true
   },
   "outputs": [
    {
     "name": "stdout",
     "output_type": "stream",
     "text": [
      "\n",
      "Stats of batch 2:\n",
      "Samples: 10000\n",
      "Label Counts: {0: 984, 1: 1007, 2: 1010, 3: 995, 4: 1010, 5: 988, 6: 1008, 7: 1026, 8: 987, 9: 985}\n",
      "First 20 Labels: [1, 6, 6, 8, 8, 3, 4, 6, 0, 6, 0, 3, 6, 6, 5, 4, 8, 3, 2, 6]\n",
      "\n",
      "Example of Image 9999:\n",
      "Image - Min Value: 3 Max Value: 253\n",
      "Image - Shape: (32, 32, 3)\n",
      "Label - Label Id: 5 Name: dog\n"
     ]
    },
    {
     "data": {
      "image/png": "[encoded data removed]",
      "text/plain": [
       "<matplotlib.figure.Figure at 0x7fa7636564a8>"
      ]
     },
     "metadata": {
      "image/png": {
       "height": 250,
       "width": 253
      }
     },
     "output_type": "display_data"
    }
   ],
   "source": [
    "%matplotlib inline\n",
    "%config InlineBackend.figure_format = 'retina'\n",
    "\n",
    "import helper\n",
    "import numpy as np\n",
    "\n",
    "# Explore the dataset\n",
    "batch_id = 2#1\n",
    "sample_id = 9999 #5\n",
    "helper.display_stats(cifar10_dataset_folder_path, batch_id, sample_id)"
   ]
  },
  {
   "cell_type": "markdown",
   "metadata": {
    "deletable": true,
    "editable": true
   },
   "source": [
    "## Implement Preprocess Functions\n",
    "### Normalize\n",
    "In the cell below, implement the `normalize` function to take in image data, `x`, and return it as a normalized Numpy array. The values should be in the range of 0 to 1, inclusive.  The return object should be the same shape as `x`."
   ]
  },
  {
   "cell_type": "code",
   "execution_count": 4,
   "metadata": {
    "collapsed": false,
    "deletable": true,
    "editable": true,
    "scrolled": false
   },
   "outputs": [
    {
     "name": "stdout",
     "output_type": "stream",
     "text": [
      "Tests Passed\n"
     ]
    }
   ],
   "source": [
    "def normalize(x):\n",
    "    \"\"\"\n",
    "    Normalize a list of sample image data in the range of 0 to 1\n",
    "    : x: List of image data.  The image shape is (32, 32, 3)\n",
    "    : return: Numpy array of normalize data\n",
    "    \"\"\"\n",
    "    \n",
    "    # Boolean Switch between 2 implementations\n",
    "    if(False):\n",
    "    \n",
    "        # TODO: Implement Function -> Min-Max Scaling \n",
    "        a = 0.1      # Set Min Scaled Value\n",
    "        b = 0.9      # Set Max Scaled Value\n",
    "        xmin = 0     # Image Pixel Min value \n",
    "        xmax = 255   # Image Pixel Max value \n",
    "        return ( a + (x - xmin) * ( b - a ) / ( xmax - xmin ) )\n",
    "\n",
    "    else :\n",
    "        # Implement Udacity's reviewer suggestion : \n",
    "        # normalize the image by dividing each pixels by the \n",
    "        # maximum value of the image pixels only\n",
    "\n",
    "        # Find the pixel max value per image \n",
    "        # this produce an array of the length of the image array\n",
    "        max_pixel = x.max(axis=(1,2,3), keepdims=True)\n",
    "\n",
    "        # we create a matrix of 1 of the same size as the array of images\n",
    "        # By multiplying it by 1/max_pixel and perform element wise multiplication\n",
    "        # between the image array and this matrix, each pixels in the array get\n",
    "        # divided by max_pixel value\n",
    "        norm_x =  x * np.ones(np.shape(x)) * (1/max_pixel) \n",
    "\n",
    "        return norm_x\n",
    "\n",
    "\n",
    "\"\"\"\n",
    "DON'T MODIFY ANYTHING IN THIS CELL THAT IS BELOW THIS LINE\n",
    "\"\"\"\n",
    "tests.test_normalize(normalize)"
   ]
  },
  {
   "cell_type": "markdown",
   "metadata": {
    "deletable": true,
    "editable": true
   },
   "source": [
    "### One-hot encode\n",
    "Just like the previous code cell, you'll be implementing a function for preprocessing.  This time, you'll implement the `one_hot_encode` function. The input, `x`, are a list of labels.  Implement the function to return the list of labels as One-Hot encoded Numpy array.  The possible values for labels are 0 to 9. The one-hot encoding function should return the same encoding for each value between each call to `one_hot_encode`.  Make sure to save the map of encodings outside the function.\n",
    "\n",
    "Hint: Don't reinvent the wheel."
   ]
  },
  {
   "cell_type": "code",
   "execution_count": 5,
   "metadata": {
    "collapsed": false,
    "deletable": true,
    "editable": true
   },
   "outputs": [
    {
     "name": "stdout",
     "output_type": "stream",
     "text": [
      "Tests Passed\n"
     ]
    }
   ],
   "source": [
    "# Remark : \n",
    "# As x values are in 0 to 9, I don't see the point of maintaining a map of encodings outside the function.\n",
    "# Working with an array of 10 elements is straigtforward and provides the same encoding between each call  \n",
    "\n",
    "from sklearn.preprocessing import OneHotEncoder\n",
    "\n",
    "\n",
    "\n",
    "def one_hot_encode(x):\n",
    "    \"\"\"\n",
    "    One hot encode a list of sample labels. Return a one-hot encoded vector for each label.\n",
    "    : x: List of sample Labels\n",
    "    : return: Numpy array of one-hot encoded labels\n",
    "    \"\"\"\n",
    "    # TODO: Implement Function\n",
    "    \n",
    "    # Boolean Switch between 2 implementations\n",
    "    if(False):\n",
    "        \n",
    "        # Initialiaze a Numpy array to store the one-hot encoded output (Shape is (lengh of x) * (9 possible values))\n",
    "        one_hot_labels = np.zeros((len(x), 10), dtype='uint8')\n",
    "\n",
    "        # Loop over each labels in the list...\n",
    "        for row_idx, label in enumerate(x):\n",
    "            # ... and perform the one_hot encoding for the current label\n",
    "            one_hot_labels[row_idx, label] = 1  \n",
    "\n",
    "        return  one_hot_labels\n",
    "\n",
    "    else:\n",
    "        # Implement Udacity's reviewer suggestion : \n",
    "        # You can also make use of sklearn's pre-processing functions to implement \n",
    "        # label's one-hot encodings which can be more efficient than loops. Check out \n",
    "        # Sklearn's LabelBinarizer and/or OneHotEncoder.\n",
    "        x=np.array(x).reshape(-1,1)\n",
    "        enc = OneHotEncoder(10, dtype='uint8', sparse=False)\n",
    "        enc.fit(x)\n",
    "        return(enc.transform(x).reshape(-1,10))\n",
    "\n",
    "                 \n",
    "\"\"\"\n",
    "DON'T MODIFY ANYTHING IN THIS CELL THAT IS BELOW THIS LINE\n",
    "\"\"\"\n",
    "tests.test_one_hot_encode(one_hot_encode)"
   ]
  },
  {
   "cell_type": "markdown",
   "metadata": {
    "deletable": true,
    "editable": true
   },
   "source": [
    "### Randomize Data\n",
    "As you saw from exploring the data above, the order of the samples are randomized.  It doesn't hurt to randomize it again, but you don't need to for this dataset."
   ]
  },
  {
   "cell_type": "markdown",
   "metadata": {
    "deletable": true,
    "editable": true
   },
   "source": [
    "## Preprocess all the data and save it\n",
    "Running the code cell below will preprocess all the CIFAR-10 data and save it to file. The code below also uses 10% of the training data for validation."
   ]
  },
  {
   "cell_type": "code",
   "execution_count": 6,
   "metadata": {
    "collapsed": false,
    "deletable": true,
    "editable": true
   },
   "outputs": [],
   "source": [
    "\"\"\"\n",
    "DON'T MODIFY ANYTHING IN THIS CELL\n",
    "\"\"\"\n",
    "# Preprocess Training, Validation, and Testing Data\n",
    "helper.preprocess_and_save_data(cifar10_dataset_folder_path, normalize, one_hot_encode)"
   ]
  },
  {
   "cell_type": "markdown",
   "metadata": {
    "deletable": true,
    "editable": true
   },
   "source": [
    "# Check Point\n",
    "This is your first checkpoint.  If you ever decide to come back to this notebook or have to restart the notebook, you can start from here.  The preprocessed data has been saved to disk."
   ]
  },
  {
   "cell_type": "code",
   "execution_count": 7,
   "metadata": {
    "collapsed": true,
    "deletable": true,
    "editable": true
   },
   "outputs": [],
   "source": [
    "\"\"\"\n",
    "DON'T MODIFY ANYTHING IN THIS CELL\n",
    "\"\"\"\n",
    "import pickle\n",
    "import problem_unittests as tests\n",
    "import helper\n",
    "\n",
    "# Load the Preprocessed Validation data\n",
    "valid_features, valid_labels = pickle.load(open('preprocess_validation.p', mode='rb'))"
   ]
  },
  {
   "cell_type": "markdown",
   "metadata": {
    "deletable": true,
    "editable": true
   },
   "source": [
    "## Build the network\n",
    "For the neural network, you'll build each layer into a function.  Most of the code you've seen has been outside of functions. To test your code more thoroughly, we require that you put each layer in a function.  This allows us to give you better feedback and test for simple mistakes using our unittests before you submit your project.\n",
    "\n",
    ">**Note:** If you're finding it hard to dedicate enough time for this course each week, we've provided a small shortcut to this part of the project. In the next couple of problems, you'll have the option to use classes from the [TensorFlow Layers](https://www.tensorflow.org/api_docs/python/tf/layers) or [TensorFlow Layers (contrib)](https://www.tensorflow.org/api_guides/python/contrib.layers) packages to build each layer, except the layers you build in the \"Convolutional and Max Pooling Layer\" section.  TF Layers is similar to Keras's and TFLearn's abstraction to layers, so it's easy to pickup.\n",
    "\n",
    ">However, if you would like to get the most out of this course, try to solve all the problems _without_ using anything from the TF Layers packages. You **can** still use classes from other packages that happen to have the same name as ones you find in TF Layers! For example, instead of using the TF Layers version of the `conv2d` class, [tf.layers.conv2d](https://www.tensorflow.org/api_docs/python/tf/layers/conv2d), you would want to use the TF Neural Network version of `conv2d`, [tf.nn.conv2d](https://www.tensorflow.org/api_docs/python/tf/nn/conv2d). \n",
    "\n",
    "Let's begin!\n",
    "\n",
    "### Input\n",
    "The neural network needs to read the image data, one-hot encoded labels, and dropout keep probability. Implement the following functions\n",
    "* Implement `neural_net_image_input`\n",
    " * Return a [TF Placeholder](https://www.tensorflow.org/api_docs/python/tf/placeholder)\n",
    " * Set the shape using `image_shape` with batch size set to `None`.\n",
    " * Name the TensorFlow placeholder \"x\" using the TensorFlow `name` parameter in the [TF Placeholder](https://www.tensorflow.org/api_docs/python/tf/placeholder).\n",
    "* Implement `neural_net_label_input`\n",
    " * Return a [TF Placeholder](https://www.tensorflow.org/api_docs/python/tf/placeholder)\n",
    " * Set the shape using `n_classes` with batch size set to `None`.\n",
    " * Name the TensorFlow placeholder \"y\" using the TensorFlow `name` parameter in the [TF Placeholder](https://www.tensorflow.org/api_docs/python/tf/placeholder).\n",
    "* Implement `neural_net_keep_prob_input`\n",
    " * Return a [TF Placeholder](https://www.tensorflow.org/api_docs/python/tf/placeholder) for dropout keep probability.\n",
    " * Name the TensorFlow placeholder \"keep_prob\" using the TensorFlow `name` parameter in the [TF Placeholder](https://www.tensorflow.org/api_docs/python/tf/placeholder).\n",
    "\n",
    "These names will be used at the end of the project to load your saved model.\n",
    "\n",
    "Note: `None` for shapes in TensorFlow allow for a dynamic size."
   ]
  },
  {
   "cell_type": "code",
   "execution_count": 8,
   "metadata": {
    "collapsed": false,
    "deletable": true,
    "editable": true
   },
   "outputs": [
    {
     "name": "stdout",
     "output_type": "stream",
     "text": [
      "Image Input Tests Passed.\n",
      "Label Input Tests Passed.\n",
      "Keep Prob Tests Passed.\n"
     ]
    }
   ],
   "source": [
    "import tensorflow as tf\n",
    "\n",
    "def neural_net_image_input(image_shape):\n",
    "    \"\"\"\n",
    "    Return a Tensor for a batch of image input\n",
    "    : image_shape: Shape of the images\n",
    "    : return: Tensor for image input.\n",
    "    \"\"\"\n",
    "    # TODO: Implement Function \n",
    "    return tf.placeholder(shape=(None, image_shape[0], image_shape[1], image_shape[2]), \n",
    "                          dtype=tf.float32, \n",
    "                          name=\"x\" )\n",
    "\n",
    "\n",
    "def neural_net_label_input(n_classes):\n",
    "    \"\"\"\n",
    "    Return a Tensor for a batch of label input\n",
    "    : n_classes: Number of classes\n",
    "    : return: Tensor for label input.\n",
    "    \"\"\"\n",
    "    # TODO: Implement Function\n",
    "    return tf.placeholder(shape=(None, n_classes), dtype=tf.int16, name=\"y\" )\n",
    "\n",
    "\n",
    "def neural_net_keep_prob_input():\n",
    "    \"\"\"\n",
    "    Return a Tensor for keep probability\n",
    "    : return: Tensor for keep probability.\n",
    "    \"\"\"\n",
    "    # TODO: Implement Function\n",
    "    return tf.placeholder(shape=None, dtype=tf.float32, name=\"keep_prob\")\n",
    "\n",
    "\n",
    "\"\"\"\n",
    "DON'T MODIFY ANYTHING IN THIS CELL THAT IS BELOW THIS LINE\n",
    "\"\"\"\n",
    "tf.reset_default_graph()\n",
    "tests.test_nn_image_inputs(neural_net_image_input)\n",
    "tests.test_nn_label_inputs(neural_net_label_input)\n",
    "tests.test_nn_keep_prob_inputs(neural_net_keep_prob_input)"
   ]
  },
  {
   "cell_type": "markdown",
   "metadata": {
    "deletable": true,
    "editable": true
   },
   "source": [
    "### Convolution and Max Pooling Layer\n",
    "Convolution layers have a lot of success with images. For this code cell, you should implement the function `conv2d_maxpool` to apply convolution then max pooling:\n",
    "* Create the weight and bias using `conv_ksize`, `conv_num_outputs` and the shape of `x_tensor`.\n",
    "* Apply a convolution to `x_tensor` using weight and `conv_strides`.\n",
    " * We recommend you use same padding, but you're welcome to use any padding.\n",
    "* Add bias\n",
    "* Add a nonlinear activation to the convolution.\n",
    "* Apply Max Pooling using `pool_ksize` and `pool_strides`.\n",
    " * We recommend you use same padding, but you're welcome to use any padding.\n",
    "\n",
    "**Note:** You **can't** use [TensorFlow Layers](https://www.tensorflow.org/api_docs/python/tf/layers) or [TensorFlow Layers (contrib)](https://www.tensorflow.org/api_guides/python/contrib.layers) for **this** layer, but you can still use TensorFlow's [Neural Network](https://www.tensorflow.org/api_docs/python/tf/nn) package. You may still use the shortcut option for all the **other** layers."
   ]
  },
  {
   "cell_type": "code",
   "execution_count": 9,
   "metadata": {
    "collapsed": false,
    "deletable": true,
    "editable": true
   },
   "outputs": [
    {
     "name": "stdout",
     "output_type": "stream",
     "text": [
      "Tests Passed\n"
     ]
    }
   ],
   "source": [
    "def conv2d_maxpool(x_tensor, conv_num_outputs, conv_ksize, conv_strides, pool_ksize, pool_strides):\n",
    "    \"\"\"\n",
    "    Apply convolution then max pooling to x_tensor\n",
    "    :param x_tensor: TensorFlow Tensor\n",
    "    :param conv_num_outputs: Number of outputs for the convolutional layer\n",
    "    :param conv_ksize: kernal size 2-D Tuple for the convolutional layer\n",
    "    :param conv_strides: Stride 2-D Tuple for convolution\n",
    "    :param pool_ksize: kernal size 2-D Tuple for pool\n",
    "    :param pool_strides: Stride 2-D Tuple for pool\n",
    "    : return: A tensor that represents convolution and max pooling of x_tensor\n",
    "    \"\"\"\n",
    "    # TODO: Implement Function\n",
    "    \n",
    "    # Prepare kernel size\n",
    "    h = conv_ksize[0]\n",
    "    w = conv_ksize[1]\n",
    "    depth_in = int(x_tensor.get_shape().as_list()[3]) # Images= 4D Tensor: Index Image, Height, Width, Input Depth\n",
    "    depth_out = conv_num_outputs\n",
    "\n",
    "    # Kernel's weights\n",
    "    kernel_weights = tf.Variable(tf.truncated_normal(shape=(h, w, depth_in, depth_out),\n",
    "                                                     dtype=tf.float32,\n",
    "                                                     mean=0.0, stddev=0.05,\n",
    "                                                     seed=None), # Use seed to reproduce the results\n",
    "                                 name = \"conv_weights\")\n",
    "    \n",
    "    # Kernel's Bias \n",
    "    biases = tf.Variable(tf.truncated_normal(shape=[depth_out], \n",
    "                                             dtype=tf.float32, \n",
    "                                             mean=0.0, stddev=0.05,\n",
    "                                             seed=None),   # Use seed to reproduce the results\n",
    "                         name = \"conv_biases\")\n",
    "    \n",
    "    # Apply a convolution\n",
    "    kstride_h, kstride_w = conv_strides    \n",
    "    c = tf.nn.conv2d(x_tensor, kernel_weights, \n",
    "                     strides=[1, kstride_h, kstride_w, 1], \n",
    "                     padding='SAME',\n",
    "                     use_cudnn_on_gpu=True,\n",
    "                     name=\"conv_conv2d\")\n",
    "    \n",
    "    # Add Bias to the convolution\n",
    "    c = tf.nn.bias_add(c, biases, name=\"conv_add_bias\")\n",
    "    \n",
    "    # Add a nonlinear activation to the convolution\n",
    "    #c = tf.nn.relu(c, name=\"conv_relu\")\n",
    "    \n",
    "    # Apply Max Pooling using pool_ksize and pool_strides\n",
    "    pksize_h , pksize_w = pool_ksize\n",
    "    pstride_h, pstride_w = pool_strides\n",
    "    c = tf.nn.max_pool(c, \n",
    "                       ksize=[1, pksize_h, pksize_w, 1], \n",
    "                       strides=[1, pstride_h, pstride_w, 1], \n",
    "                       padding='SAME',\n",
    "                       name=\"conv_pool\")\n",
    "    \n",
    "    # Implement Udacity Reviewer's suggestion : \n",
    "    # Since relu(max_pool(x)) == max_pool(relu(x)) we can \n",
    "    # save 75% of the relu-operations by max-pooling first\n",
    "    c = tf.nn.relu(c, name=\"conv_relu\")\n",
    "\n",
    "    # Return the result of the convolution/maxpool in a Tensor \n",
    "    return c \n",
    "\n",
    "\n",
    "\"\"\"\n",
    "DON'T MODIFY ANYTHING IN THIS CELL THAT IS BELOW THIS LINE\n",
    "\"\"\"\n",
    "tests.test_con_pool(conv2d_maxpool)"
   ]
  },
  {
   "cell_type": "markdown",
   "metadata": {
    "deletable": true,
    "editable": true
   },
   "source": [
    "### Flatten Layer\n",
    "Implement the `flatten` function to change the dimension of `x_tensor` from a 4-D tensor to a 2-D tensor.  The output should be the shape (*Batch Size*, *Flattened Image Size*). Shortcut option: you can use classes from the [TensorFlow Layers](https://www.tensorflow.org/api_docs/python/tf/layers) or [TensorFlow Layers (contrib)](https://www.tensorflow.org/api_guides/python/contrib.layers) packages for this layer. For more of a challenge, only use other TensorFlow packages."
   ]
  },
  {
   "cell_type": "code",
   "execution_count": 10,
   "metadata": {
    "collapsed": false,
    "deletable": true,
    "editable": true
   },
   "outputs": [
    {
     "name": "stdout",
     "output_type": "stream",
     "text": [
      "Tests Passed\n"
     ]
    }
   ],
   "source": [
    "def flatten(x_tensor):\n",
    "    \"\"\"\n",
    "    Flatten x_tensor to (Batch Size, Flattened Image Size)\n",
    "    : x_tensor: A tensor of size (Batch Size, ...), where ... are the image dimensions.\n",
    "    : return: A tensor of size (Batch Size, Flattened Image Size).\n",
    "    \"\"\"\n",
    "    # TODO: Implement Function\n",
    "    \n",
    "    # get the image size from the last 3 dimensions of the x_tensor Tensor\n",
    "    # Note : we can not use the 1st dimension (batch size) to reshape \n",
    "    # the Tensor as the value could be 'None' (placeholder)\n",
    "    h = int(x_tensor.get_shape().as_list()[1])\n",
    "    w = int(x_tensor.get_shape().as_list()[2])\n",
    "    d = int(x_tensor.get_shape().as_list()[3])\n",
    "        \n",
    "    # Flatten the Tensor with a reshape \n",
    "    f = tf.reshape(x_tensor, shape=[ -1, h*w*d] , name=\"flatten\" )\n",
    "    \n",
    "    return f\n",
    "\n",
    "\n",
    "\"\"\"\n",
    "DON'T MODIFY ANYTHING IN THIS CELL THAT IS BELOW THIS LINE\n",
    "\"\"\"\n",
    "tests.test_flatten(flatten)"
   ]
  },
  {
   "cell_type": "markdown",
   "metadata": {
    "deletable": true,
    "editable": true
   },
   "source": [
    "### Fully-Connected Layer\n",
    "Implement the `fully_conn` function to apply a fully connected layer to `x_tensor` with the shape (*Batch Size*, *num_outputs*). Shortcut option: you can use classes from the [TensorFlow Layers](https://www.tensorflow.org/api_docs/python/tf/layers) or [TensorFlow Layers (contrib)](https://www.tensorflow.org/api_guides/python/contrib.layers) packages for this layer. For more of a challenge, only use other TensorFlow packages."
   ]
  },
  {
   "cell_type": "code",
   "execution_count": 11,
   "metadata": {
    "collapsed": false,
    "deletable": true,
    "editable": true
   },
   "outputs": [
    {
     "name": "stdout",
     "output_type": "stream",
     "text": [
      "Tests Passed\n"
     ]
    }
   ],
   "source": [
    "def fully_conn(x_tensor, num_outputs):\n",
    "    \"\"\"\n",
    "    Apply a fully connected layer to x_tensor using weight and bias\n",
    "    : x_tensor: A 2-D tensor where the first dimension is batch size.\n",
    "    : num_outputs: The number of output that the new tensor should be.\n",
    "    : return: A 2-D tensor where the second dimension is num_outputs.\n",
    "    \"\"\"\n",
    "    # TODO: Implement Function\n",
    "    \n",
    "    # get the flatten image size from the last 2 dimensions of the x_tensor Tensor\n",
    "    flat_img_size = int(x_tensor.get_shape().as_list()[1])\n",
    "    \n",
    "    # Prepare weigths variables\n",
    "    weights = tf.Variable(tf.truncated_normal(shape=(flat_img_size, num_outputs),\n",
    "                                              dtype=tf.float32,\n",
    "                                              mean=0.0, stddev=0.05,\n",
    "                                              seed=None), # Use seed to reproduce the results\n",
    "                          name = \"full_weights\")\n",
    "    \n",
    "    # Prepare Bias variables\n",
    "    biases = tf.Variable(tf.truncated_normal(shape=[num_outputs],\n",
    "                                             dtype=tf.float32,\n",
    "                                             mean=0.0, stddev=0.05,\n",
    "                                             seed=None), # Use seed to reproduce the results\n",
    "                         name = \"full_biases\")\n",
    "    \n",
    "    # Apply feed forward pass\n",
    "    fc = tf.matmul(x_tensor, weights, name=\"full_conn\") + biases\n",
    "    \n",
    "    # Apply activation function\n",
    "    fc = tf.nn.relu(fc, name=\"full_relu\")\n",
    "    \n",
    "    # Return the result Tensor\n",
    "    return fc\n",
    "\n",
    "\n",
    "\"\"\"\n",
    "DON'T MODIFY ANYTHING IN THIS CELL THAT IS BELOW THIS LINE\n",
    "\"\"\"\n",
    "tests.test_fully_conn(fully_conn)"
   ]
  },
  {
   "cell_type": "markdown",
   "metadata": {
    "deletable": true,
    "editable": true
   },
   "source": [
    "### Output Layer\n",
    "Implement the `output` function to apply a fully connected layer to `x_tensor` with the shape (*Batch Size*, *num_outputs*). Shortcut option: you can use classes from the [TensorFlow Layers](https://www.tensorflow.org/api_docs/python/tf/layers) or [TensorFlow Layers (contrib)](https://www.tensorflow.org/api_guides/python/contrib.layers) packages for this layer. For more of a challenge, only use other TensorFlow packages.\n",
    "\n",
    "**Note:** Activation, softmax, or cross entropy should **not** be applied to this."
   ]
  },
  {
   "cell_type": "code",
   "execution_count": 12,
   "metadata": {
    "collapsed": false,
    "deletable": true,
    "editable": true
   },
   "outputs": [
    {
     "name": "stdout",
     "output_type": "stream",
     "text": [
      "Tests Passed\n"
     ]
    }
   ],
   "source": [
    "def output(x_tensor, num_outputs):\n",
    "    \"\"\"\n",
    "    Apply a output layer to x_tensor using weight and bias\n",
    "    : x_tensor: A 2-D tensor where the first dimension is batch size.\n",
    "    : num_outputs: The number of output that the new tensor should be.\n",
    "    : return: A 2-D tensor where the second dimension is num_outputs.\n",
    "    \"\"\"\n",
    "    # TODO: Implement Function\n",
    "    \n",
    "    # get the flatten image size from the last 2 dimensions of the x_tensor Tensor\n",
    "    flat_img_size = int(x_tensor.get_shape().as_list()[1])\n",
    "    \n",
    "    # Prepare weigths variables\n",
    "    weights = tf.Variable(tf.truncated_normal(shape=(flat_img_size, num_outputs),\n",
    "                                              dtype=tf.float32,\n",
    "                                              mean=0.0, stddev=0.05,\n",
    "                                              seed=None), # Use seed to reproduce the results\n",
    "                          name = \"output_weights\")\n",
    "    \n",
    "    # Prepare Bias variables\n",
    "    biases = tf.Variable(tf.truncated_normal(shape=[num_outputs],\n",
    "                                             dtype=tf.float32,\n",
    "                                             mean=0.0, stddev=0.05,\n",
    "                                             seed=None), # Use seed to reproduce the results\n",
    "                         name = \"output_biases\")\n",
    "    \n",
    "    # Apply feed forward pass\n",
    "    out = tf.matmul(x_tensor, weights, name=\"output\") + biases\n",
    "    \n",
    "    # Return the result Tensor\n",
    "    return out\n",
    "\n",
    "\n",
    "\"\"\"\n",
    "DON'T MODIFY ANYTHING IN THIS CELL THAT IS BELOW THIS LINE\n",
    "\"\"\"\n",
    "tests.test_output(output)"
   ]
  },
  {
   "cell_type": "markdown",
   "metadata": {
    "deletable": true,
    "editable": true
   },
   "source": [
    "### Create Convolutional Model\n",
    "Implement the function `conv_net` to create a convolutional neural network model. The function takes in a batch of images, `x`, and outputs logits.  Use the layers you created above to create this model:\n",
    "\n",
    "* Apply 1, 2, or 3 Convolution and Max Pool layers\n",
    "* Apply a Flatten Layer\n",
    "* Apply 1, 2, or 3 Fully Connected Layers\n",
    "* Apply an Output Layer\n",
    "* Return the output\n",
    "* Apply [TensorFlow's Dropout](https://www.tensorflow.org/api_docs/python/tf/nn/dropout) to one or more layers in the model using `keep_prob`. "
   ]
  },
  {
   "cell_type": "code",
   "execution_count": 13,
   "metadata": {
    "collapsed": false,
    "deletable": true,
    "editable": true
   },
   "outputs": [
    {
     "name": "stdout",
     "output_type": "stream",
     "text": [
      "Neural Network Built!\n"
     ]
    }
   ],
   "source": [
    "def conv_net(x, keep_prob):\n",
    "    \"\"\"\n",
    "    Create a convolutional neural network model\n",
    "    : x: Placeholder tensor that holds image data.\n",
    "    : keep_prob: Placeholder tensor that hold dropout keep probability.\n",
    "    : return: Tensor that represents logits\n",
    "    \"\"\"\n",
    "    # TODO: Apply 1, 2, or 3 Convolution and Max Pool layers\n",
    "    #    Play around with different number of outputs, kernel size and stride\n",
    "    # Function Definition from Above:\n",
    "    #    conv2d_maxpool(x_tensor, conv_num_outputs, conv_ksize, conv_strides, pool_ksize, pool_strides)\n",
    "    \n",
    "    # Apply 1st convolution/pooling layer\n",
    "    conv1 = conv2d_maxpool(x , \n",
    "                           conv_num_outputs = 128, \n",
    "                           conv_ksize = (5, 5),\n",
    "                           conv_strides = (1,1),\n",
    "                           pool_ksize= (3,3),\n",
    "                           pool_strides= (2,2) )\n",
    "\n",
    "    # Apply 2nd convolution/pooling layer\n",
    "    conv2 = conv2d_maxpool(conv1 , \n",
    "                           conv_num_outputs = 480, #320\n",
    "                           conv_ksize = (3, 3),\n",
    "                           conv_strides = (1,1),   \n",
    "                           pool_ksize= (3,3),\n",
    "                           pool_strides= (2,2) )\n",
    " \n",
    "    # Apply 3rd convolution/pooling layer\n",
    "    conv3 = conv2d_maxpool(conv2 , \n",
    "                           conv_num_outputs = 640, \n",
    "                           conv_ksize = (2, 2),\n",
    "                           conv_strides = (1,1),\n",
    "                           pool_ksize= (3,3),\n",
    "                           pool_strides= (2,2) )\n",
    "    \n",
    "    # TODO: Apply a Flatten Layer\n",
    "    # Function Definition from Above:\n",
    "    #   flatten(x_tensor)\n",
    "    \n",
    "    # Changing the dimensions of x_tensor from a 4-D tensor to a 2-D tensor \n",
    "    # to connect to the fully connected layer  \n",
    "    flat = flatten(conv3)\n",
    "    \n",
    "    \n",
    "    # TODO: Apply 1, 2, or 3 Fully Connected Layers\n",
    "    #    Play around with different number of outputs\n",
    "    # Function Definition from Above:\n",
    "    #   fully_conn(x_tensor, num_outputs)\n",
    "    \n",
    "    # Apply first first fully connected layer\n",
    "    full1 = fully_conn(flat, num_outputs = 640)\n",
    "    \n",
    "    \n",
    "    # Apply Dropout\n",
    "    drop1 = tf.nn.dropout(full1, keep_prob)\n",
    "    \n",
    "    # Apply 2nd  fully connected layer\n",
    "    full2 = fully_conn(drop1, num_outputs = 128)\n",
    "    \n",
    "    \n",
    "    # TODO: Apply an Output Layer\n",
    "    #    Set this to the number of classes\n",
    "    # Function Definition from Above:\n",
    "    #   output(x_tensor, num_outputs)\n",
    "    \n",
    "    # Apply output layer\n",
    "    out = output(full2, num_outputs = 10)\n",
    "    \n",
    "    \n",
    "    # TODO: return output\n",
    "    return out\n",
    "\n",
    "\n",
    "\"\"\"\n",
    "DON'T MODIFY ANYTHING IN THIS CELL THAT IS BELOW THIS LINE\n",
    "\"\"\"\n",
    "\n",
    "##############################\n",
    "## Build the Neural Network ##\n",
    "##############################\n",
    "\n",
    "# Remove previous weights, bias, inputs, etc..\n",
    "tf.reset_default_graph()\n",
    "\n",
    "# Inputs\n",
    "x = neural_net_image_input((32, 32, 3))\n",
    "y = neural_net_label_input(10)\n",
    "keep_prob = neural_net_keep_prob_input()\n",
    "\n",
    "# Model\n",
    "logits = conv_net(x, keep_prob)\n",
    "\n",
    "# Name logits Tensor, so that is can be loaded from disk after training\n",
    "logits = tf.identity(logits, name='logits')\n",
    "\n",
    "# Loss and Optimizer\n",
    "cost = tf.reduce_mean(tf.nn.softmax_cross_entropy_with_logits(logits=logits, labels=y))\n",
    "optimizer = tf.train.AdamOptimizer().minimize(cost)\n",
    "\n",
    "# Accuracy\n",
    "correct_pred = tf.equal(tf.argmax(logits, 1), tf.argmax(y, 1))\n",
    "accuracy = tf.reduce_mean(tf.cast(correct_pred, tf.float32), name='accuracy')\n",
    "\n",
    "tests.test_conv_net(conv_net)"
   ]
  },
  {
   "cell_type": "markdown",
   "metadata": {
    "deletable": true,
    "editable": true
   },
   "source": [
    "## Train the Neural Network\n",
    "### Single Optimization\n",
    "Implement the function `train_neural_network` to do a single optimization.  The optimization should use `optimizer` to optimize in `session` with a `feed_dict` of the following:\n",
    "* `x` for image input\n",
    "* `y` for labels\n",
    "* `keep_prob` for keep probability for dropout\n",
    "\n",
    "This function will be called for each batch, so `tf.global_variables_initializer()` has already been called.\n",
    "\n",
    "Note: Nothing needs to be returned. This function is only optimizing the neural network."
   ]
  },
  {
   "cell_type": "code",
   "execution_count": 14,
   "metadata": {
    "collapsed": false,
    "deletable": true,
    "editable": true
   },
   "outputs": [
    {
     "name": "stdout",
     "output_type": "stream",
     "text": [
      "Tests Passed\n"
     ]
    }
   ],
   "source": [
    "def train_neural_network(session, optimizer, keep_probability, feature_batch, label_batch):\n",
    "    \"\"\"\n",
    "    Optimize the session on a batch of images and labels\n",
    "    : session: Current TensorFlow session\n",
    "    : optimizer: TensorFlow optimizer function\n",
    "    : keep_probability: keep probability\n",
    "    : feature_batch: Batch of Numpy image data\n",
    "    : label_batch: Batch of Numpy label data\n",
    "    \"\"\"\n",
    "    # TODO: Implement Function\n",
    "    \n",
    "    session.run(optimizer, feed_dict={x: feature_batch, y: label_batch, keep_prob: keep_probability})\n",
    "    \n",
    "    pass\n",
    "\n",
    "\n",
    "\"\"\"\n",
    "DON'T MODIFY ANYTHING IN THIS CELL THAT IS BELOW THIS LINE\n",
    "\"\"\"\n",
    "tests.test_train_nn(train_neural_network)"
   ]
  },
  {
   "cell_type": "markdown",
   "metadata": {
    "deletable": true,
    "editable": true
   },
   "source": [
    "### Show Stats\n",
    "Implement the function `print_stats` to print loss and validation accuracy.  Use the global variables `valid_features` and `valid_labels` to calculate validation accuracy.  Use a keep probability of `1.0` to calculate the loss and validation accuracy."
   ]
  },
  {
   "cell_type": "code",
   "execution_count": 15,
   "metadata": {
    "collapsed": false,
    "deletable": true,
    "editable": true
   },
   "outputs": [],
   "source": [
    "def print_stats(session, feature_batch, label_batch, cost, accuracy):\n",
    "    \"\"\"\n",
    "    Print information about loss and validation accuracy\n",
    "    : session: Current TensorFlow session\n",
    "    : feature_batch: Batch of Numpy image data\n",
    "    : label_batch: Batch of Numpy label data\n",
    "    : cost: TensorFlow cost function\n",
    "    : accuracy: TensorFlow accuracy function\n",
    "    \"\"\"\n",
    "    # TODO: Implement Function\n",
    "    \n",
    "    #Use the global variables \n",
    "    global valid_features \n",
    "    global valid_labels\n",
    "    \n",
    "    # Calculate batch loss and accuracy\n",
    "    loss = session.run(cost, feed_dict={x: feature_batch, y: label_batch, keep_prob: 1.0})\n",
    "    valid_accuracy = session.run(accuracy, feed_dict={x: valid_features, y: valid_labels, keep_prob: 1.0})\n",
    "    \n",
    " \n",
    "    print(\"Loss= \" , loss, \"    Validation Accuracy= \" , valid_accuracy)\n",
    "    pass"
   ]
  },
  {
   "cell_type": "markdown",
   "metadata": {
    "deletable": true,
    "editable": true
   },
   "source": [
    "### Hyperparameters\n",
    "Tune the following parameters:\n",
    "* Set `epochs` to the number of iterations until the network stops learning or start overfitting\n",
    "* Set `batch_size` to the highest number that your machine has memory for.  Most people set them to common sizes of memory:\n",
    " * 64\n",
    " * 128\n",
    " * 256\n",
    " * ...\n",
    "* Set `keep_probability` to the probability of keeping a node using dropout"
   ]
  },
  {
   "cell_type": "code",
   "execution_count": 16,
   "metadata": {
    "collapsed": true,
    "deletable": true,
    "editable": true
   },
   "outputs": [],
   "source": [
    "# TODO: Tune Parameters\n",
    "epochs = 1\n",
    "batch_size = 128\n",
    "keep_probability = 0.5"
   ]
  },
  {
   "cell_type": "markdown",
   "metadata": {
    "deletable": true,
    "editable": true
   },
   "source": [
    "### Train on a Single CIFAR-10 Batch\n",
    "Instead of training the neural network on all the CIFAR-10 batches of data, let's use a single batch. This should save time while you iterate on the model to get a better accuracy.  Once the final validation accuracy is 50% or greater, run the model on all the data in the next section."
   ]
  },
  {
   "cell_type": "code",
   "execution_count": 17,
   "metadata": {
    "collapsed": false,
    "deletable": true,
    "editable": true,
    "scrolled": true
   },
   "outputs": [
    {
     "name": "stdout",
     "output_type": "stream",
     "text": [
      "Sun May 14 21:32:59 2017       \r\n",
      "+-----------------------------------------------------------------------------+\r\n",
      "| NVIDIA-SMI 367.57                 Driver Version: 367.57                    |\r\n",
      "|-------------------------------+----------------------+----------------------+\r\n",
      "| GPU  Name        Persistence-M| Bus-Id        Disp.A | Volatile Uncorr. ECC |\r\n",
      "| Fan  Temp  Perf  Pwr:Usage/Cap|         Memory-Usage | GPU-Util  Compute M. |\r\n",
      "|===============================+======================+======================|\r\n",
      "|   0  Tesla K80           Off  | 0000:00:1E.0     Off |                    0 |\r\n",
      "| N/A   44C    P0    70W / 149W |  10873MiB / 11439MiB |      0%      Default |\r\n",
      "+-------------------------------+----------------------+----------------------+\r\n",
      "                                                                               \r\n",
      "+-----------------------------------------------------------------------------+\r\n",
      "| Processes:                                                       GPU Memory |\r\n",
      "|  GPU       PID  Type  Process name                               Usage      |\r\n",
      "|=============================================================================|\r\n",
      "+-----------------------------------------------------------------------------+\r\n"
     ]
    }
   ],
   "source": [
    "# My add-on : Check the GPU info (Some Memory GPU should be used)\n",
    "!nvidia-smi"
   ]
  },
  {
   "cell_type": "code",
   "execution_count": 18,
   "metadata": {
    "collapsed": false,
    "deletable": true,
    "editable": true
   },
   "outputs": [
    {
     "name": "stdout",
     "output_type": "stream",
     "text": [
      "Checking the Training on a Single Batch...\n",
      "Epoch  1, CIFAR-10 Batch 1:  Loss=  1.892     Validation Accuracy=  0.3438\n",
      "Epoch Running Time :  20.00801968574524\n",
      "\n",
      "Total Training Time  20.30398464202881\n"
     ]
    }
   ],
   "source": [
    "# Little add-on to enhance the monitoring\n",
    "import time\n",
    "start_time = time.time()\n",
    "\n",
    "\"\"\"\n",
    "DON'T MODIFY ANYTHING IN THIS CELL\n",
    "\"\"\"\n",
    "print('Checking the Training on a Single Batch...')\n",
    "with tf.Session() as sess:\n",
    "    # Initializing the variables\n",
    "    sess.run(tf.global_variables_initializer())\n",
    "    \n",
    "    # Training cycle\n",
    "    for epoch in range(epochs):\n",
    "        batch_i = 1\n",
    "        epoch_start= time.time()     # Little add-on to enhance the monitoring\n",
    "                \n",
    "        for batch_features, batch_labels in helper.load_preprocess_training_batch(batch_i, batch_size):\n",
    "            train_neural_network(sess, optimizer, keep_probability, batch_features, batch_labels)\n",
    "        print('Epoch {:>2}, CIFAR-10 Batch {}:  '.format(epoch + 1, batch_i), end='')\n",
    "        print_stats(sess, batch_features, batch_labels, cost, accuracy)\n",
    "        # Little add-on to enhance the monitoring (Get to know the time to train one epoch)\n",
    "        elapsed_time =  time.time() - epoch_start \n",
    "        if (epoch==0): print(\"Epoch Running Time : \" , elapsed_time)\n",
    "\n",
    " # Little add-on to enhance the monitoring       \n",
    "train_time = time.time() - start_time\n",
    "print(\"\\nTotal Training Time \" ,  train_time)"
   ]
  },
  {
   "cell_type": "markdown",
   "metadata": {
    "deletable": true,
    "editable": true
   },
   "source": [
    "### Fully Train the Model\n",
    "Now that you got a good accuracy with a single CIFAR-10 batch, try it with all five batches."
   ]
  },
  {
   "cell_type": "code",
   "execution_count": 19,
   "metadata": {
    "collapsed": true,
    "deletable": true,
    "editable": true
   },
   "outputs": [],
   "source": [
    "# TODO: Tune Parameters\n",
    "epochs = 90 #60\n",
    "batch_size = 256\n",
    "keep_probability = 0.50"
   ]
  },
  {
   "cell_type": "code",
   "execution_count": null,
   "metadata": {
    "collapsed": false,
    "deletable": true,
    "editable": true
   },
   "outputs": [
    {
     "name": "stdout",
     "output_type": "stream",
     "text": [
      "Training...\n",
      "Epoch  1, CIFAR-10 Batch 1:  Loss=  2.18045     Validation Accuracy=  0.26\n",
      "Epoch  1, CIFAR-10 Batch 2:  Loss=  1.6765     Validation Accuracy=  0.377\n",
      "Epoch  1, CIFAR-10 Batch 3:  Loss=  1.48754     Validation Accuracy=  0.4118\n",
      "Epoch  1, CIFAR-10 Batch 4:  Loss=  1.46203     Validation Accuracy=  0.479\n",
      "Epoch  1, CIFAR-10 Batch 5:  Loss=  1.34249     Validation Accuracy=  0.4856\n",
      "Epoch Running Time :  68.09335613250732\n",
      "Epoch  2, CIFAR-10 Batch 1:  Loss=  1.27662     Validation Accuracy=  0.5398\n",
      "Epoch  2, CIFAR-10 Batch 2:  Loss=  1.17024     Validation Accuracy=  0.544\n",
      "Epoch  2, CIFAR-10 Batch 3:  Loss=  0.893436     Validation Accuracy=  0.5668\n",
      "Epoch  2, CIFAR-10 Batch 4:  Loss=  0.977361     Validation Accuracy=  0.5888\n",
      "Epoch  2, CIFAR-10 Batch 5:  Loss=  0.856703     Validation Accuracy=  0.6014\n",
      "Epoch  3, CIFAR-10 Batch 1:  Loss=  0.822577     Validation Accuracy=  0.6288\n",
      "Epoch  3, CIFAR-10 Batch 2:  Loss=  0.817852     Validation Accuracy=  0.6128\n",
      "Epoch  3, CIFAR-10 Batch 3:  Loss=  0.588413     Validation Accuracy=  0.6536\n",
      "Epoch  3, CIFAR-10 Batch 4:  Loss=  0.700127     Validation Accuracy=  0.663\n",
      "Epoch  3, CIFAR-10 Batch 5:  Loss=  0.6361     Validation Accuracy=  0.6532\n",
      "Epoch  4, CIFAR-10 Batch 1:  Loss=  0.572482     Validation Accuracy=  0.6668\n",
      "Epoch  4, CIFAR-10 Batch 2:  Loss=  0.569855     Validation Accuracy=  0.6748\n",
      "Epoch  4, CIFAR-10 Batch 3:  Loss=  0.439598     Validation Accuracy=  0.6816\n",
      "Epoch  4, CIFAR-10 Batch 4:  Loss=  0.478407     Validation Accuracy=  0.6848\n",
      "Epoch  4, CIFAR-10 Batch 5:  Loss=  0.491857     Validation Accuracy=  0.658\n",
      "Epoch  5, CIFAR-10 Batch 1:  Loss=  0.33233     Validation Accuracy=  0.689\n",
      "Epoch  5, CIFAR-10 Batch 2:  Loss=  0.391475     Validation Accuracy=  0.6668\n",
      "Epoch  5, CIFAR-10 Batch 3:  Loss=  0.328644     Validation Accuracy=  0.7268\n",
      "Epoch  5, CIFAR-10 Batch 4:  Loss=  0.306251     Validation Accuracy=  0.7184\n",
      "Epoch  5, CIFAR-10 Batch 5:  Loss=  0.240641     Validation Accuracy=  0.7134\n",
      "Epoch  6, CIFAR-10 Batch 1:  Loss=  0.242158     Validation Accuracy=  0.7008\n",
      "Epoch  6, CIFAR-10 Batch 2:  Loss=  0.305603     Validation Accuracy=  0.6834\n",
      "Epoch  6, CIFAR-10 Batch 3:  Loss=  0.228464     Validation Accuracy=  0.7286\n",
      "Epoch  6, CIFAR-10 Batch 4:  Loss=  0.251324     Validation Accuracy=  0.7268\n",
      "Epoch  6, CIFAR-10 Batch 5:  Loss=  0.179972     Validation Accuracy=  0.7206\n",
      "Epoch  7, CIFAR-10 Batch 1:  Loss=  0.185352     Validation Accuracy=  0.7352\n",
      "Epoch  7, CIFAR-10 Batch 2:  Loss=  0.163361     Validation Accuracy=  0.7432\n",
      "Epoch  7, CIFAR-10 Batch 3:  Loss=  0.139167     Validation Accuracy=  0.7342\n",
      "Epoch  7, CIFAR-10 Batch 4:  Loss=  0.153919     Validation Accuracy=  0.7294\n",
      "Epoch  7, CIFAR-10 Batch 5:  Loss=  0.103798     Validation Accuracy=  0.757\n",
      "Epoch  8, CIFAR-10 Batch 1:  Loss=  0.129679     Validation Accuracy=  0.7432\n",
      "Epoch  8, CIFAR-10 Batch 2:  Loss=  0.107646     Validation Accuracy=  0.753\n",
      "Epoch  8, CIFAR-10 Batch 3:  Loss=  0.104042     Validation Accuracy=  0.758\n",
      "Epoch  8, CIFAR-10 Batch 4:  Loss=  0.0664302     Validation Accuracy=  0.7636\n",
      "Epoch  8, CIFAR-10 Batch 5:  Loss=  0.0855042     Validation Accuracy=  0.725\n",
      "Epoch  9, CIFAR-10 Batch 1:  Loss=  0.0943887     Validation Accuracy=  0.757\n",
      "Epoch  9, CIFAR-10 Batch 2:  Loss=  0.066971     Validation Accuracy=  0.7466\n",
      "Epoch  9, CIFAR-10 Batch 3:  Loss=  0.0644315     Validation Accuracy=  0.7698\n",
      "Epoch  9, CIFAR-10 Batch 4:  Loss=  0.0573501     Validation Accuracy=  0.7602\n",
      "Epoch  9, CIFAR-10 Batch 5:  Loss=  0.0421344     Validation Accuracy=  0.7666\n",
      "Epoch 10, CIFAR-10 Batch 1:  Loss=  0.0621555     Validation Accuracy=  0.74\n",
      "Epoch 10, CIFAR-10 Batch 2:  Loss=  0.0583988     Validation Accuracy=  0.7612\n",
      "Epoch 10, CIFAR-10 Batch 3:  Loss=  0.0421226     Validation Accuracy=  0.7612\n",
      "Epoch 10, CIFAR-10 Batch 4:  Loss=  0.0587789     Validation Accuracy=  0.7656\n",
      "Epoch 10, CIFAR-10 Batch 5:  Loss=  0.0414767     Validation Accuracy=  0.763\n",
      "Epoch 11, CIFAR-10 Batch 1:  Loss=  0.0569191     Validation Accuracy=  0.7734\n",
      "Epoch 11, CIFAR-10 Batch 2:  Loss=  0.0586658     Validation Accuracy=  0.7562\n",
      "Epoch 11, CIFAR-10 Batch 3:  Loss=  0.0222565     Validation Accuracy=  0.741\n",
      "Epoch 11, CIFAR-10 Batch 4:  Loss=  0.047128     Validation Accuracy=  0.7622\n",
      "Epoch 11, CIFAR-10 Batch 5:  Loss=  0.0191967     Validation Accuracy=  0.7638\n",
      "Epoch 12, CIFAR-10 Batch 1:  Loss=  0.0347587     Validation Accuracy=  0.7708\n",
      "Epoch 12, CIFAR-10 Batch 2:  Loss=  0.0202549     Validation Accuracy=  0.7734\n",
      "Epoch 12, CIFAR-10 Batch 3:  Loss=  0.0151369     Validation Accuracy=  0.7484\n",
      "Epoch 12, CIFAR-10 Batch 4:  Loss=  0.0213247     Validation Accuracy=  0.7696\n",
      "Epoch 12, CIFAR-10 Batch 5:  Loss=  0.0121486     Validation Accuracy=  0.7666\n",
      "Epoch 13, CIFAR-10 Batch 1:  Loss=  0.041478     Validation Accuracy=  0.7366\n",
      "Epoch 13, CIFAR-10 Batch 2:  Loss=  0.0123319     Validation Accuracy=  0.7656\n",
      "Epoch 13, CIFAR-10 Batch 3:  Loss=  0.0192496     Validation Accuracy=  0.752\n",
      "Epoch 13, CIFAR-10 Batch 4:  Loss=  0.0233222     Validation Accuracy=  0.7506\n",
      "Epoch 13, CIFAR-10 Batch 5:  Loss=  0.00692426     Validation Accuracy=  0.7822\n",
      "Epoch 14, CIFAR-10 Batch 1:  Loss=  0.0366264     Validation Accuracy=  0.7616\n",
      "Epoch 14, CIFAR-10 Batch 2:  Loss=  0.0102478     Validation Accuracy=  0.7712\n",
      "Epoch 14, CIFAR-10 Batch 3:  Loss=  0.0165521     Validation Accuracy=  0.7454\n",
      "Epoch 14, CIFAR-10 Batch 4:  Loss=  0.00943064     Validation Accuracy=  0.769\n",
      "Epoch 14, CIFAR-10 Batch 5:  Loss=  0.00540506     Validation Accuracy=  0.7644\n",
      "Epoch 15, CIFAR-10 Batch 1:  Loss=  0.0366433     Validation Accuracy=  0.7816\n",
      "Epoch 15, CIFAR-10 Batch 2:  Loss=  0.0137362     Validation Accuracy=  0.7442\n",
      "Epoch 15, CIFAR-10 Batch 3:  Loss=  0.0086119     Validation Accuracy=  0.7416\n",
      "Epoch 15, CIFAR-10 Batch 4:  Loss=  0.0172016     Validation Accuracy=  0.749\n",
      "Epoch 15, CIFAR-10 Batch 5:  Loss=  0.00396974     Validation Accuracy=  0.7684\n",
      "Epoch 16, CIFAR-10 Batch 1:  Loss=  0.0158893     Validation Accuracy=  0.7724\n",
      "Epoch 16, CIFAR-10 Batch 2:  Loss=  0.0104024     Validation Accuracy=  0.7748\n",
      "Epoch 16, CIFAR-10 Batch 3:  Loss=  0.00366275     Validation Accuracy=  0.7548\n",
      "Epoch 16, CIFAR-10 Batch 4:  Loss=  0.0112365     Validation Accuracy=  0.7726\n",
      "Epoch 16, CIFAR-10 Batch 5:  Loss=  0.00335657     Validation Accuracy=  0.7864\n",
      "Epoch 17, CIFAR-10 Batch 1:  Loss=  0.00720583     Validation Accuracy=  0.7566\n",
      "Epoch 17, CIFAR-10 Batch 2:  Loss=  0.0102156     Validation Accuracy=  0.7734\n",
      "Epoch 17, CIFAR-10 Batch 3:  Loss=  0.00480187     Validation Accuracy=  0.744\n",
      "Epoch 17, CIFAR-10 Batch 4:  Loss=  0.00648576     Validation Accuracy=  0.7704\n",
      "Epoch 17, CIFAR-10 Batch 5:  Loss=  0.00318105     Validation Accuracy=  0.7676\n",
      "Epoch 18, CIFAR-10 Batch 1:  Loss=  0.00602296     Validation Accuracy=  0.7646\n",
      "Epoch 18, CIFAR-10 Batch 2:  Loss=  0.00474739     Validation Accuracy=  0.7538\n",
      "Epoch 18, CIFAR-10 Batch 3:  Loss=  0.0022337     Validation Accuracy=  0.7742\n",
      "Epoch 18, CIFAR-10 Batch 4:  Loss=  0.0115614     Validation Accuracy=  0.7714\n",
      "Epoch 18, CIFAR-10 Batch 5:  Loss=  0.00444142     Validation Accuracy=  0.7804\n",
      "Epoch 19, CIFAR-10 Batch 1:  Loss=  0.00558969     Validation Accuracy=  0.7616\n",
      "Epoch 19, CIFAR-10 Batch 2:  Loss=  0.00194162     Validation Accuracy=  0.7756\n",
      "Epoch 19, CIFAR-10 Batch 3:  Loss=  0.00913234     Validation Accuracy=  0.7644\n",
      "Epoch 19, CIFAR-10 Batch 4:  Loss=  0.00563053     Validation Accuracy=  0.7662\n",
      "Epoch 19, CIFAR-10 Batch 5:  Loss=  0.000692802     Validation Accuracy=  0.7756\n",
      "Epoch 20, CIFAR-10 Batch 1:  Loss=  0.00679331     Validation Accuracy=  0.7692\n",
      "Epoch 20, CIFAR-10 Batch 2:  Loss=  0.00205603     Validation Accuracy=  0.771\n",
      "Epoch 20, CIFAR-10 Batch 3:  Loss=  0.000381012     Validation Accuracy=  0.7794\n",
      "Epoch 20, CIFAR-10 Batch 4:  Loss=  0.0109966     Validation Accuracy=  0.766\n",
      "Epoch 20, CIFAR-10 Batch 5:  Loss=  0.0507482     Validation Accuracy=  0.7752\n",
      "Epoch 21, CIFAR-10 Batch 1:  Loss=  0.00422072     Validation Accuracy=  0.7692\n",
      "Epoch 21, CIFAR-10 Batch 2:  Loss=  0.00267289     Validation Accuracy=  0.7836\n",
      "Epoch 21, CIFAR-10 Batch 3:  Loss=  0.00204374     Validation Accuracy=  0.776\n",
      "Epoch 21, CIFAR-10 Batch 4:  Loss=  0.0124212     Validation Accuracy=  0.7736\n",
      "Epoch 21, CIFAR-10 Batch 5:  Loss=  0.00307485     Validation Accuracy=  0.7576\n",
      "Epoch 22, CIFAR-10 Batch 1:  Loss=  0.00216844     Validation Accuracy=  0.7558\n",
      "Epoch 22, CIFAR-10 Batch 2:  Loss=  0.00199044     Validation Accuracy=  0.7678\n",
      "Epoch 22, CIFAR-10 Batch 3:  Loss=  0.000102447     Validation Accuracy=  0.7852\n",
      "Epoch 22, CIFAR-10 Batch 4:  Loss=  0.00176744     Validation Accuracy=  0.7846\n",
      "Epoch 22, CIFAR-10 Batch 5:  Loss=  0.0004629     Validation Accuracy=  0.7818\n",
      "Epoch 23, CIFAR-10 Batch 1:  Loss=  0.00585153     Validation Accuracy=  0.7752\n",
      "Epoch 23, CIFAR-10 Batch 2:  Loss=  0.00115514     Validation Accuracy=  0.7724\n",
      "Epoch 23, CIFAR-10 Batch 3:  Loss=  0.000322061     Validation Accuracy=  0.7804\n",
      "Epoch 23, CIFAR-10 Batch 4:  Loss=  0.00204279     Validation Accuracy=  0.7716\n",
      "Epoch 23, CIFAR-10 Batch 5:  Loss=  0.000637999     Validation Accuracy=  0.7758\n",
      "Epoch 24, CIFAR-10 Batch 1:  Loss=  0.00943487     Validation Accuracy=  0.756\n",
      "Epoch 24, CIFAR-10 Batch 2:  Loss=  0.000703859     Validation Accuracy=  0.7556\n",
      "Epoch 24, CIFAR-10 Batch 3:  Loss=  0.000433183     Validation Accuracy=  0.7808\n",
      "Epoch 24, CIFAR-10 Batch 4:  Loss=  0.00328073     Validation Accuracy=  0.778\n",
      "Epoch 24, CIFAR-10 Batch 5:  Loss=  0.000116786     Validation Accuracy=  0.7798\n",
      "Epoch 25, CIFAR-10 Batch 1:  Loss=  0.00904772     Validation Accuracy=  0.7758\n",
      "Epoch 25, CIFAR-10 Batch 2:  Loss=  0.00100943     Validation Accuracy=  0.7816\n",
      "Epoch 25, CIFAR-10 Batch 3:  Loss=  0.000486432     Validation Accuracy=  0.7822\n",
      "Epoch 25, CIFAR-10 Batch 4:  Loss=  0.00151345     Validation Accuracy=  0.7796\n",
      "Epoch 25, CIFAR-10 Batch 5:  Loss=  0.000237742     Validation Accuracy=  0.7752\n",
      "Epoch 26, CIFAR-10 Batch 1:  Loss=  0.00163771     Validation Accuracy=  0.7746\n",
      "Epoch 26, CIFAR-10 Batch 2:  Loss=  0.0018118     Validation Accuracy=  0.7832\n",
      "Epoch 26, CIFAR-10 Batch 3:  Loss=  3.38103e-05     Validation Accuracy=  0.781\n",
      "Epoch 26, CIFAR-10 Batch 4:  Loss=  0.00682739     Validation Accuracy=  0.7664\n",
      "Epoch 26, CIFAR-10 Batch 5:  Loss=  0.000463004     Validation Accuracy=  0.7788\n",
      "Epoch 27, CIFAR-10 Batch 1:  Loss=  0.000804602     Validation Accuracy=  0.7774\n",
      "Epoch 27, CIFAR-10 Batch 2:  Loss=  0.000537541     Validation Accuracy=  0.7794\n",
      "Epoch 27, CIFAR-10 Batch 3:  Loss=  0.000260397     Validation Accuracy=  0.7852\n",
      "Epoch 27, CIFAR-10 Batch 4:  Loss=  0.00138793     Validation Accuracy=  0.7706\n",
      "Epoch 27, CIFAR-10 Batch 5:  Loss=  0.000708387     Validation Accuracy=  0.7778\n",
      "Epoch 28, CIFAR-10 Batch 1:  Loss=  0.000848927     Validation Accuracy=  0.7876\n",
      "Epoch 28, CIFAR-10 Batch 2:  Loss=  0.00116167     Validation Accuracy=  0.7852\n",
      "Epoch 28, CIFAR-10 Batch 3:  Loss=  0.0005473     Validation Accuracy=  0.7782\n",
      "Epoch 28, CIFAR-10 Batch 4:  Loss=  0.00185039     Validation Accuracy=  0.769\n",
      "Epoch 28, CIFAR-10 Batch 5:  Loss=  0.00130174     Validation Accuracy=  0.7822\n",
      "Epoch 29, CIFAR-10 Batch 1:  Loss=  0.00109157     Validation Accuracy=  0.7948\n",
      "Epoch 29, CIFAR-10 Batch 2:  Loss=  0.00226484     Validation Accuracy=  0.7768\n",
      "Epoch 29, CIFAR-10 Batch 3:  Loss=  6.20179e-05     Validation Accuracy=  0.781\n",
      "Epoch 29, CIFAR-10 Batch 4:  Loss=  0.00303531     Validation Accuracy=  0.7628\n",
      "Epoch 29, CIFAR-10 Batch 5:  Loss=  0.000302768     Validation Accuracy=  0.7712\n",
      "Epoch 30, CIFAR-10 Batch 1:  Loss=  0.000464897     Validation Accuracy=  0.7762\n",
      "Epoch 30, CIFAR-10 Batch 2:  Loss=  0.00043381     Validation Accuracy=  0.7862\n",
      "Epoch 30, CIFAR-10 Batch 3:  Loss=  0.000263863     Validation Accuracy=  0.7776\n",
      "Epoch 30, CIFAR-10 Batch 4:  Loss=  0.00408555     Validation Accuracy=  0.775\n",
      "Epoch 30, CIFAR-10 Batch 5:  Loss=  0.0606775     Validation Accuracy=  0.708\n",
      "Epoch 31, CIFAR-10 Batch 1:  Loss=  0.000561568     Validation Accuracy=  0.769\n",
      "Epoch 31, CIFAR-10 Batch 2:  Loss=  0.000429548     Validation Accuracy=  0.787\n",
      "Epoch 31, CIFAR-10 Batch 3:  Loss=  9.84465e-05     Validation Accuracy=  0.7756\n",
      "Epoch 31, CIFAR-10 Batch 4:  Loss=  0.000247341     Validation Accuracy=  0.7682\n",
      "Epoch 31, CIFAR-10 Batch 5:  Loss=  0.000622221     Validation Accuracy=  0.7772\n",
      "Epoch 32, CIFAR-10 Batch 1:  Loss=  0.000957048     Validation Accuracy=  0.7804\n",
      "Epoch 32, CIFAR-10 Batch 2:  Loss=  0.000520545     Validation Accuracy=  0.7836\n",
      "Epoch 32, CIFAR-10 Batch 3:  Loss=  0.000110964     Validation Accuracy=  0.7908\n",
      "Epoch 32, CIFAR-10 Batch 4:  Loss=  0.000171265     Validation Accuracy=  0.7738\n",
      "Epoch 32, CIFAR-10 Batch 5:  Loss=  0.00033004     Validation Accuracy=  0.7792\n",
      "Epoch 33, CIFAR-10 Batch 1:  Loss=  0.000182097     Validation Accuracy=  0.7716\n",
      "Epoch 33, CIFAR-10 Batch 2:  Loss=  4.85402e-05     Validation Accuracy=  0.7902\n",
      "Epoch 33, CIFAR-10 Batch 3:  Loss=  0.000304465     Validation Accuracy=  0.785\n",
      "Epoch 33, CIFAR-10 Batch 4:  Loss=  0.000299217     Validation Accuracy=  0.7762\n",
      "Epoch 33, CIFAR-10 Batch 5:  Loss=  5.14483e-05     Validation Accuracy=  0.783\n",
      "Epoch 34, CIFAR-10 Batch 1:  Loss=  0.000269425     Validation Accuracy=  0.7794\n",
      "Epoch 34, CIFAR-10 Batch 2:  Loss=  0.00138405     Validation Accuracy=  0.7732\n",
      "Epoch 34, CIFAR-10 Batch 3:  Loss=  0.000151948     Validation Accuracy=  0.7782\n",
      "Epoch 34, CIFAR-10 Batch 4:  Loss=  0.000611789     Validation Accuracy=  0.7692\n",
      "Epoch 34, CIFAR-10 Batch 5:  Loss=  2.00193e-05     Validation Accuracy=  0.7864\n",
      "Epoch 35, CIFAR-10 Batch 1:  Loss=  0.00172245     Validation Accuracy=  0.7758\n",
      "Epoch 35, CIFAR-10 Batch 2:  Loss=  7.64432e-05     Validation Accuracy=  0.7828\n",
      "Epoch 35, CIFAR-10 Batch 3:  Loss=  2.75114e-05     Validation Accuracy=  0.781\n",
      "Epoch 35, CIFAR-10 Batch 4:  Loss=  0.000120207     Validation Accuracy=  0.7822\n",
      "Epoch 35, CIFAR-10 Batch 5:  Loss=  0.000726005     Validation Accuracy=  0.781\n",
      "Epoch 36, CIFAR-10 Batch 1:  Loss=  0.00038361     Validation Accuracy=  0.7732\n",
      "Epoch 36, CIFAR-10 Batch 2:  Loss=  0.000132742     Validation Accuracy=  0.7706\n",
      "Epoch 36, CIFAR-10 Batch 3:  Loss=  0.000152612     Validation Accuracy=  0.779\n",
      "Epoch 36, CIFAR-10 Batch 4:  Loss=  8.48234e-05     Validation Accuracy=  0.785\n",
      "Epoch 36, CIFAR-10 Batch 5:  Loss=  7.4646e-05     Validation Accuracy=  0.7822\n",
      "Epoch 37, CIFAR-10 Batch 1:  Loss=  0.000689402     Validation Accuracy=  0.777\n",
      "Epoch 37, CIFAR-10 Batch 2:  Loss=  0.000122724     Validation Accuracy=  0.7826\n",
      "Epoch 37, CIFAR-10 Batch 3:  Loss=  2.79161e-05     Validation Accuracy=  0.7804\n",
      "Epoch 37, CIFAR-10 Batch 4:  Loss=  8.15816e-05     Validation Accuracy=  0.7828\n",
      "Epoch 37, CIFAR-10 Batch 5:  Loss=  0.000127624     Validation Accuracy=  0.7856\n",
      "Epoch 38, CIFAR-10 Batch 1:  Loss=  0.000210436     Validation Accuracy=  0.78\n",
      "Epoch 38, CIFAR-10 Batch 2:  Loss=  0.000466159     Validation Accuracy=  0.7844\n",
      "Epoch 38, CIFAR-10 Batch 3:  Loss=  0.000219708     Validation Accuracy=  0.78\n",
      "Epoch 38, CIFAR-10 Batch 4:  Loss=  0.000122691     Validation Accuracy=  0.7876\n",
      "Epoch 38, CIFAR-10 Batch 5:  Loss=  5.77777e-05     Validation Accuracy=  0.7922\n",
      "Epoch 39, CIFAR-10 Batch 1:  Loss=  0.000107142     Validation Accuracy=  0.7882\n",
      "Epoch 39, CIFAR-10 Batch 2:  Loss=  0.00213091     Validation Accuracy=  0.773\n",
      "Epoch 39, CIFAR-10 Batch 3:  Loss=  8.8722e-05     Validation Accuracy=  0.7778\n",
      "Epoch 39, CIFAR-10 Batch 4:  Loss=  4.34647e-05     Validation Accuracy=  0.7782\n",
      "Epoch 39, CIFAR-10 Batch 5:  Loss=  5.1767e-05     Validation Accuracy=  0.7886\n",
      "Epoch 40, CIFAR-10 Batch 1:  Loss=  0.00336388     Validation Accuracy=  0.7882\n",
      "Epoch 40, CIFAR-10 Batch 2:  Loss=  0.000125484     Validation Accuracy=  0.7864\n",
      "Epoch 40, CIFAR-10 Batch 3:  Loss=  0.000141726     Validation Accuracy=  0.7758\n",
      "Epoch 40, CIFAR-10 Batch 4:  Loss=  4.24224e-05     Validation Accuracy=  0.7834\n",
      "Epoch 40, CIFAR-10 Batch 5:  Loss=  9.62035e-05     Validation Accuracy=  0.7772\n",
      "Epoch 41, CIFAR-10 Batch 1:  Loss=  0.000207898     Validation Accuracy=  0.7942\n",
      "Epoch 41, CIFAR-10 Batch 2:  Loss=  0.00110772     Validation Accuracy=  0.7676\n",
      "Epoch 41, CIFAR-10 Batch 3:  Loss=  0.000145261     Validation Accuracy=  0.786\n",
      "Epoch 41, CIFAR-10 Batch 4:  Loss=  8.37258e-05     Validation Accuracy=  0.7788\n",
      "Epoch 41, CIFAR-10 Batch 5:  Loss=  0.000254656     Validation Accuracy=  0.786\n",
      "Epoch 42, CIFAR-10 Batch 1:  Loss=  0.000136204     Validation Accuracy=  0.7846\n",
      "Epoch 42, CIFAR-10 Batch 2:  Loss=  0.000162921     Validation Accuracy=  0.786\n",
      "Epoch 42, CIFAR-10 Batch 3:  Loss=  0.00109279     Validation Accuracy=  0.7774\n",
      "Epoch 42, CIFAR-10 Batch 4:  Loss=  0.000319366     Validation Accuracy=  0.7846\n",
      "Epoch 42, CIFAR-10 Batch 5:  Loss=  0.000105831     Validation Accuracy=  0.7774\n",
      "Epoch 43, CIFAR-10 Batch 1:  Loss=  0.000249228     Validation Accuracy=  0.7848\n",
      "Epoch 43, CIFAR-10 Batch 2:  Loss=  0.00138107     Validation Accuracy=  0.7906\n",
      "Epoch 43, CIFAR-10 Batch 3:  Loss=  8.1737e-05     Validation Accuracy=  0.7826\n",
      "Epoch 43, CIFAR-10 Batch 4:  Loss=  6.41932e-05     Validation Accuracy=  0.7912\n",
      "Epoch 43, CIFAR-10 Batch 5:  Loss=  2.03221e-05     Validation Accuracy=  0.7864\n",
      "Epoch 44, CIFAR-10 Batch 1:  Loss=  0.000129792     Validation Accuracy=  0.7908\n",
      "Epoch 44, CIFAR-10 Batch 2:  Loss=  1.89244e-05     Validation Accuracy=  0.7952\n",
      "Epoch 44, CIFAR-10 Batch 3:  Loss=  2.76406e-05     Validation Accuracy=  0.7898\n",
      "Epoch 44, CIFAR-10 Batch 4:  Loss=  1.17502e-05     Validation Accuracy=  0.7904\n",
      "Epoch 44, CIFAR-10 Batch 5:  Loss=  4.38786e-05     Validation Accuracy=  0.78\n",
      "Epoch 45, CIFAR-10 Batch 1:  Loss=  5.36704e-05     Validation Accuracy=  0.7892\n",
      "Epoch 45, CIFAR-10 Batch 2:  Loss=  4.24355e-05     Validation Accuracy=  0.7924\n",
      "Epoch 45, CIFAR-10 Batch 3:  Loss=  0.000200712     Validation Accuracy=  0.7846\n",
      "Epoch 45, CIFAR-10 Batch 4:  Loss=  8.50826e-05     Validation Accuracy=  0.7784\n",
      "Epoch 45, CIFAR-10 Batch 5:  Loss=  1.6565e-05     Validation Accuracy=  0.79\n",
      "Epoch 46, CIFAR-10 Batch 1:  Loss=  7.43175e-05     Validation Accuracy=  0.7756\n",
      "Epoch 46, CIFAR-10 Batch 2:  Loss=  2.83898e-05     Validation Accuracy=  0.7842\n",
      "Epoch 46, CIFAR-10 Batch 3:  Loss=  0.000106695     Validation Accuracy=  0.7882\n",
      "Epoch 46, CIFAR-10 Batch 4:  Loss=  1.81391e-05     Validation Accuracy=  0.7944\n",
      "Epoch 46, CIFAR-10 Batch 5:  Loss=  0.000238083     Validation Accuracy=  0.7866\n",
      "Epoch 47, CIFAR-10 Batch 1:  Loss=  8.92907e-05     Validation Accuracy=  0.7836\n",
      "Epoch 47, CIFAR-10 Batch 2:  Loss=  1.094e-05     Validation Accuracy=  0.7852\n",
      "Epoch 47, CIFAR-10 Batch 3:  Loss=  5.68018e-06     Validation Accuracy=  0.7932\n",
      "Epoch 47, CIFAR-10 Batch 4:  Loss=  2.09424e-05     Validation Accuracy=  0.7776\n",
      "Epoch 47, CIFAR-10 Batch 5:  Loss=  0.000279388     Validation Accuracy=  0.7878\n",
      "Epoch 48, CIFAR-10 Batch 1:  Loss=  0.000501196     Validation Accuracy=  0.786\n",
      "Epoch 48, CIFAR-10 Batch 2:  Loss=  2.67615e-06     Validation Accuracy=  0.7976\n",
      "Epoch 48, CIFAR-10 Batch 3:  Loss=  0.000110342     Validation Accuracy=  0.7824\n",
      "Epoch 48, CIFAR-10 Batch 4:  Loss=  7.24781e-05     Validation Accuracy=  0.7864\n",
      "Epoch 48, CIFAR-10 Batch 5:  Loss=  0.000414324     Validation Accuracy=  0.7846\n",
      "Epoch 49, CIFAR-10 Batch 1:  Loss=  8.32084e-05     Validation Accuracy=  0.7734\n",
      "Epoch 49, CIFAR-10 Batch 2:  Loss=  0.000186644     Validation Accuracy=  0.7806\n",
      "Epoch 49, CIFAR-10 Batch 3:  Loss=  5.91091e-05     Validation Accuracy=  0.7846\n",
      "Epoch 49, CIFAR-10 Batch 4:  Loss=  0.000142764     Validation Accuracy=  0.7858\n",
      "Epoch 49, CIFAR-10 Batch 5:  Loss=  0.00250705     Validation Accuracy=  0.7838\n",
      "Epoch 50, CIFAR-10 Batch 1:  Loss=  0.000195571     Validation Accuracy=  0.7866\n",
      "Epoch 50, CIFAR-10 Batch 2:  Loss=  5.97636e-05     Validation Accuracy=  0.7828\n",
      "Epoch 50, CIFAR-10 Batch 3:  Loss=  0.000253934     Validation Accuracy=  0.785\n",
      "Epoch 50, CIFAR-10 Batch 4:  Loss=  0.000174674     Validation Accuracy=  0.7842\n",
      "Epoch 50, CIFAR-10 Batch 5:  Loss=  2.71436e-05     Validation Accuracy=  0.7838\n",
      "Epoch 51, CIFAR-10 Batch 1:  Loss=  3.80013e-05     Validation Accuracy=  0.7744\n",
      "Epoch 51, CIFAR-10 Batch 2:  Loss=  7.96952e-05     Validation Accuracy=  0.776\n",
      "Epoch 51, CIFAR-10 Batch 3:  Loss=  0.000399169     Validation Accuracy=  0.7768\n",
      "Epoch 51, CIFAR-10 Batch 4:  Loss=  0.000448572     Validation Accuracy=  0.7838\n",
      "Epoch 51, CIFAR-10 Batch 5:  Loss=  0.000381212     Validation Accuracy=  0.7794\n",
      "Epoch 52, CIFAR-10 Batch 1:  Loss=  0.000184564     Validation Accuracy=  0.7722\n",
      "Epoch 52, CIFAR-10 Batch 2:  Loss=  0.000259452     Validation Accuracy=  0.7844\n",
      "Epoch 52, CIFAR-10 Batch 3:  Loss=  0.00030551     Validation Accuracy=  0.774\n",
      "Epoch 52, CIFAR-10 Batch 4:  Loss=  2.06684e-05     Validation Accuracy=  0.7926\n",
      "Epoch 52, CIFAR-10 Batch 5:  Loss=  0.000548304     Validation Accuracy=  0.7806\n",
      "Epoch 53, CIFAR-10 Batch 1:  Loss=  0.000401577     Validation Accuracy=  0.7812\n",
      "Epoch 53, CIFAR-10 Batch 2:  Loss=  0.00104917     Validation Accuracy=  0.7772\n",
      "Epoch 53, CIFAR-10 Batch 3:  Loss=  5.11762e-05     Validation Accuracy=  0.7878\n",
      "Epoch 53, CIFAR-10 Batch 4:  Loss=  1.01025e-05     Validation Accuracy=  0.7768\n",
      "Epoch 53, CIFAR-10 Batch 5:  Loss=  2.51587e-05     Validation Accuracy=  0.7856\n",
      "Epoch 54, CIFAR-10 Batch 1:  Loss=  6.02813e-05     Validation Accuracy=  0.78\n",
      "Epoch 54, CIFAR-10 Batch 2:  Loss=  0.000105427     Validation Accuracy=  0.7746\n",
      "Epoch 54, CIFAR-10 Batch 3:  Loss=  0.000152688     Validation Accuracy=  0.7854\n",
      "Epoch 54, CIFAR-10 Batch 4:  Loss=  5.74771e-05     Validation Accuracy=  0.7868\n",
      "Epoch 54, CIFAR-10 Batch 5:  Loss=  2.01416e-05     Validation Accuracy=  0.7878\n",
      "Epoch 55, CIFAR-10 Batch 1:  Loss=  0.000609632     Validation Accuracy=  0.7824\n",
      "Epoch 55, CIFAR-10 Batch 2:  Loss=  0.000188595     Validation Accuracy=  0.7814\n",
      "Epoch 55, CIFAR-10 Batch 3:  Loss=  6.69231e-05     Validation Accuracy=  0.7916\n",
      "Epoch 55, CIFAR-10 Batch 4:  Loss=  4.69328e-05     Validation Accuracy=  0.7832\n",
      "Epoch 55, CIFAR-10 Batch 5:  Loss=  5.29258e-06     Validation Accuracy=  0.7848\n",
      "Epoch 56, CIFAR-10 Batch 1:  Loss=  3.50065e-05     Validation Accuracy=  0.7752\n",
      "Epoch 56, CIFAR-10 Batch 2:  Loss=  0.000739638     Validation Accuracy=  0.7816\n",
      "Epoch 56, CIFAR-10 Batch 3:  Loss=  0.00011209     Validation Accuracy=  0.7924\n",
      "Epoch 56, CIFAR-10 Batch 4:  Loss=  5.95728e-05     Validation Accuracy=  0.7756\n",
      "Epoch 56, CIFAR-10 Batch 5:  Loss=  2.29774e-06     Validation Accuracy=  0.7882\n",
      "Epoch 57, CIFAR-10 Batch 1:  Loss=  1.6477e-05     Validation Accuracy=  0.7678\n",
      "Epoch 57, CIFAR-10 Batch 2:  Loss=  4.34473e-05     Validation Accuracy=  0.7798\n",
      "Epoch 57, CIFAR-10 Batch 3:  Loss=  0.000214969     Validation Accuracy=  0.7828\n",
      "Epoch 57, CIFAR-10 Batch 4:  Loss=  3.97066e-05     Validation Accuracy=  0.7974\n",
      "Epoch 57, CIFAR-10 Batch 5:  Loss=  7.42631e-05     Validation Accuracy=  0.7966\n",
      "Epoch 58, CIFAR-10 Batch 1:  Loss=  0.000121166     Validation Accuracy=  0.7766\n",
      "Epoch 58, CIFAR-10 Batch 2:  Loss=  7.30792e-05     Validation Accuracy=  0.7854\n",
      "Epoch 58, CIFAR-10 Batch 3:  Loss=  3.12917e-06     Validation Accuracy=  0.7932\n",
      "Epoch 58, CIFAR-10 Batch 4:  Loss=  1.24715e-05     Validation Accuracy=  0.7898\n",
      "Epoch 58, CIFAR-10 Batch 5:  Loss=  7.32071e-05     Validation Accuracy=  0.7868\n",
      "Epoch 59, CIFAR-10 Batch 1:  Loss=  1.12249e-05     Validation Accuracy=  0.784\n",
      "Epoch 59, CIFAR-10 Batch 2:  Loss=  2.56296e-06     Validation Accuracy=  0.789\n",
      "Epoch 59, CIFAR-10 Batch 3:  Loss=  2.80436e-05     Validation Accuracy=  0.7904\n",
      "Epoch 59, CIFAR-10 Batch 4:  Loss=  0.000360905     Validation Accuracy=  0.7808\n",
      "Epoch 59, CIFAR-10 Batch 5:  Loss=  9.96168e-05     Validation Accuracy=  0.7804\n",
      "Epoch 60, CIFAR-10 Batch 1:  Loss=  1.3458e-05     Validation Accuracy=  0.7802\n",
      "Epoch 60, CIFAR-10 Batch 2:  Loss=  5.60164e-05     Validation Accuracy=  0.7782\n",
      "Epoch 60, CIFAR-10 Batch 3:  Loss=  1.35949e-05     Validation Accuracy=  0.7928\n",
      "Epoch 60, CIFAR-10 Batch 4:  Loss=  0.000405926     Validation Accuracy=  0.781\n",
      "Epoch 60, CIFAR-10 Batch 5:  Loss=  6.0389e-05     Validation Accuracy=  0.781\n",
      "Epoch 61, CIFAR-10 Batch 1:  Loss=  2.70789e-05     Validation Accuracy=  0.7758\n",
      "Epoch 61, CIFAR-10 Batch 2:  Loss=  2.04456e-05     Validation Accuracy=  0.7872\n",
      "Epoch 61, CIFAR-10 Batch 3:  Loss=  0.00103443     Validation Accuracy=  0.784\n",
      "Epoch 61, CIFAR-10 Batch 4:  Loss=  0.000276612     Validation Accuracy=  0.7872\n",
      "Epoch 61, CIFAR-10 Batch 5:  Loss=  8.51224e-05     Validation Accuracy=  0.7846\n",
      "Epoch 62, CIFAR-10 Batch 1:  Loss=  1.96948e-05     Validation Accuracy=  0.7866\n",
      "Epoch 62, CIFAR-10 Batch 2:  Loss=  2.63588e-05     Validation Accuracy=  0.7846\n",
      "Epoch 62, CIFAR-10 Batch 3:  Loss=  2.85623e-05     Validation Accuracy=  0.7954\n",
      "Epoch 62, CIFAR-10 Batch 4:  Loss=  0.000131659     Validation Accuracy=  0.7942\n",
      "Epoch 62, CIFAR-10 Batch 5:  Loss=  0.000223029     Validation Accuracy=  0.7936\n",
      "Epoch 63, CIFAR-10 Batch 1:  Loss=  3.87274e-05     Validation Accuracy=  0.7888\n",
      "Epoch 63, CIFAR-10 Batch 2:  Loss=  9.43488e-05     Validation Accuracy=  0.7798\n",
      "Epoch 63, CIFAR-10 Batch 3:  Loss=  6.52463e-05     Validation Accuracy=  0.7932\n",
      "Epoch 63, CIFAR-10 Batch 4:  Loss=  3.83979e-05     Validation Accuracy=  0.796\n",
      "Epoch 63, CIFAR-10 Batch 5:  Loss=  4.05334e-05     Validation Accuracy=  0.7874\n",
      "Epoch 64, CIFAR-10 Batch 1:  Loss=  0.000230058     Validation Accuracy=  0.778\n",
      "Epoch 64, CIFAR-10 Batch 2:  Loss=  0.000101774     Validation Accuracy=  0.8024\n",
      "Epoch 64, CIFAR-10 Batch 3:  Loss=  9.27035e-06     Validation Accuracy=  0.7896\n",
      "Epoch 64, CIFAR-10 Batch 4:  Loss=  8.12821e-05     Validation Accuracy=  0.7896\n",
      "Epoch 64, CIFAR-10 Batch 5:  Loss=  4.17156e-05     Validation Accuracy=  0.7914\n",
      "Epoch 65, CIFAR-10 Batch 1:  Loss=  0.000168966     Validation Accuracy=  0.791\n",
      "Epoch 65, CIFAR-10 Batch 2:  Loss=  0.0008444     Validation Accuracy=  0.7894\n",
      "Epoch 65, CIFAR-10 Batch 3:  Loss=  2.43144e-05     Validation Accuracy=  0.792\n",
      "Epoch 65, CIFAR-10 Batch 4:  Loss=  0.000160811     Validation Accuracy=  0.7886\n",
      "Epoch 65, CIFAR-10 Batch 5:  Loss=  2.0361e-05     Validation Accuracy=  0.7898\n",
      "Epoch 66, CIFAR-10 Batch 1:  Loss=  4.378e-05     Validation Accuracy=  0.7908\n",
      "Epoch 66, CIFAR-10 Batch 2:  Loss=  0.00109227     Validation Accuracy=  0.7872\n",
      "Epoch 66, CIFAR-10 Batch 3:  Loss=  0.000115474     Validation Accuracy=  0.7952\n",
      "Epoch 66, CIFAR-10 Batch 4:  Loss=  2.88012e-05     Validation Accuracy=  0.7912\n",
      "Epoch 66, CIFAR-10 Batch 5:  Loss=  0.000848168     Validation Accuracy=  0.7936\n",
      "Epoch 67, CIFAR-10 Batch 1:  Loss=  0.000161567     Validation Accuracy=  0.7908\n",
      "Epoch 67, CIFAR-10 Batch 2:  Loss=  0.000147669     Validation Accuracy=  0.795\n",
      "Epoch 67, CIFAR-10 Batch 3:  Loss=  7.57602e-05     Validation Accuracy=  0.7926\n",
      "Epoch 67, CIFAR-10 Batch 4:  Loss=  1.84128e-05     Validation Accuracy=  0.7944\n",
      "Epoch 67, CIFAR-10 Batch 5:  Loss=  5.89298e-05     Validation Accuracy=  0.7824\n",
      "Epoch 68, CIFAR-10 Batch 1:  Loss=  1.54976e-05     Validation Accuracy=  0.796\n",
      "Epoch 68, CIFAR-10 Batch 2:  Loss=  3.98808e-05     Validation Accuracy=  0.7842\n",
      "Epoch 68, CIFAR-10 Batch 3:  Loss=  2.26966e-05     Validation Accuracy=  0.7906\n",
      "Epoch 68, CIFAR-10 Batch 4:  Loss=  1.54611e-05     Validation Accuracy=  0.7946\n",
      "Epoch 68, CIFAR-10 Batch 5:  Loss=  3.73842e-05     Validation Accuracy=  0.794\n",
      "Epoch 69, CIFAR-10 Batch 1:  Loss=  3.27465e-05     Validation Accuracy=  0.7884\n",
      "Epoch 69, CIFAR-10 Batch 2:  Loss=  0.000551604     Validation Accuracy=  0.7886\n",
      "Epoch 69, CIFAR-10 Batch 3:  Loss=  0.00202492     Validation Accuracy=  0.7896\n",
      "Epoch 69, CIFAR-10 Batch 4:  Loss=  7.55776e-05     Validation Accuracy=  0.7896\n",
      "Epoch 69, CIFAR-10 Batch 5:  Loss=  4.66097e-06     Validation Accuracy=  0.7864\n",
      "Epoch 70, CIFAR-10 Batch 1:  Loss=  0.00119607     Validation Accuracy=  0.7814\n",
      "Epoch 70, CIFAR-10 Batch 2:  Loss=  0.000125916     Validation Accuracy=  0.7776\n",
      "Epoch 70, CIFAR-10 Batch 3:  Loss=  0.001221     Validation Accuracy=  0.7864\n",
      "Epoch 70, CIFAR-10 Batch 4:  Loss=  0.00161339     Validation Accuracy=  0.7864\n",
      "Epoch 70, CIFAR-10 Batch 5:  Loss=  1.40368e-06     Validation Accuracy=  0.783\n",
      "Epoch 71, CIFAR-10 Batch 1:  Loss=  0.000308137     Validation Accuracy=  0.793\n",
      "Epoch 71, CIFAR-10 Batch 2:  Loss=  0.000304084     Validation Accuracy=  0.791\n",
      "Epoch 71, CIFAR-10 Batch 3:  Loss=  0.000207026     Validation Accuracy=  0.7894\n",
      "Epoch 71, CIFAR-10 Batch 4:  Loss=  2.80521e-05     Validation Accuracy=  0.786\n",
      "Epoch 71, CIFAR-10 Batch 5:  Loss=  5.2214e-05     Validation Accuracy=  0.7834\n",
      "Epoch 72, CIFAR-10 Batch 1:  Loss=  5.12709e-05     Validation Accuracy=  0.79\n",
      "Epoch 72, CIFAR-10 Batch 2:  Loss=  2.69922e-05     Validation Accuracy=  0.7816\n",
      "Epoch 72, CIFAR-10 Batch 3:  Loss=  9.50451e-05     Validation Accuracy=  0.7798\n",
      "Epoch 72, CIFAR-10 Batch 4:  Loss=  0.000133126     Validation Accuracy=  0.7962\n",
      "Epoch 72, CIFAR-10 Batch 5:  Loss=  1.06413e-05     Validation Accuracy=  0.7828\n",
      "Epoch 73, CIFAR-10 Batch 1:  Loss=  0.000113964     Validation Accuracy=  0.7866\n",
      "Epoch 73, CIFAR-10 Batch 2:  Loss=  4.46429e-06     Validation Accuracy=  0.792\n",
      "Epoch 73, CIFAR-10 Batch 3:  Loss=  1.11545e-05     Validation Accuracy=  0.7906\n",
      "Epoch 73, CIFAR-10 Batch 4:  Loss=  0.00149931     Validation Accuracy=  0.7874\n",
      "Epoch 73, CIFAR-10 Batch 5:  Loss=  4.88638e-05     Validation Accuracy=  0.7882\n",
      "Epoch 74, CIFAR-10 Batch 1:  Loss=  9.19194e-05     Validation Accuracy=  0.794\n",
      "Epoch 74, CIFAR-10 Batch 2:  Loss=  3.09308e-05     Validation Accuracy=  0.7978\n",
      "Epoch 74, CIFAR-10 Batch 3:  Loss=  2.02653e-06     Validation Accuracy=  0.78\n",
      "Epoch 74, CIFAR-10 Batch 4:  Loss=  2.01529e-05     Validation Accuracy=  0.7952\n",
      "Epoch 74, CIFAR-10 Batch 5:  Loss=  2.63739e-05     Validation Accuracy=  0.7896\n",
      "Epoch 75, CIFAR-10 Batch 1:  Loss=  1.42357e-05     Validation Accuracy=  0.7912\n",
      "Epoch 75, CIFAR-10 Batch 2:  Loss=  6.08541e-06     Validation Accuracy=  0.7944\n",
      "Epoch 75, CIFAR-10 Batch 3:  Loss=  1.01764e-05     Validation Accuracy=  0.7892\n",
      "Epoch 75, CIFAR-10 Batch 4:  Loss=  6.86929e-06     Validation Accuracy=  0.7924\n",
      "Epoch 75, CIFAR-10 Batch 5:  Loss=  2.5926e-05     Validation Accuracy=  0.7838\n",
      "Epoch 76, CIFAR-10 Batch 1:  Loss=  0.000180547     Validation Accuracy=  0.7868\n",
      "Epoch 76, CIFAR-10 Batch 2:  Loss=  0.000286881     Validation Accuracy=  0.7858\n",
      "Epoch 76, CIFAR-10 Batch 3:  Loss=  5.29857e-05     Validation Accuracy=  0.7882\n",
      "Epoch 76, CIFAR-10 Batch 4:  Loss=  0.000298021     Validation Accuracy=  0.7996\n",
      "Epoch 76, CIFAR-10 Batch 5:  Loss=  2.56294e-06     Validation Accuracy=  0.7896\n",
      "Epoch 77, CIFAR-10 Batch 1:  Loss=  2.84769e-05     Validation Accuracy=  0.7882\n",
      "Epoch 77, CIFAR-10 Batch 2:  Loss=  8.0778e-05     Validation Accuracy=  0.7856\n",
      "Epoch 77, CIFAR-10 Batch 3:  Loss=  5.41169e-06     Validation Accuracy=  0.793\n",
      "Epoch 77, CIFAR-10 Batch 4:  Loss=  7.16201e-05     Validation Accuracy=  0.7944\n",
      "Epoch 77, CIFAR-10 Batch 5:  Loss=  6.41027e-06     Validation Accuracy=  0.7804\n",
      "Epoch 78, CIFAR-10 Batch 1:  Loss=  5.96081e-05     Validation Accuracy=  0.7852\n",
      "Epoch 78, CIFAR-10 Batch 2:  Loss=  2.34734e-05     Validation Accuracy=  0.7884\n",
      "Epoch 78, CIFAR-10 Batch 3:  Loss=  8.76373e-05     Validation Accuracy=  0.7894\n",
      "Epoch 78, CIFAR-10 Batch 4:  Loss=  0.000118952     Validation Accuracy=  0.7848\n",
      "Epoch 78, CIFAR-10 Batch 5:  Loss=  4.89941e-06     Validation Accuracy=  0.7932\n",
      "Epoch 79, CIFAR-10 Batch 1:  Loss=  0.000189222     Validation Accuracy=  0.789\n",
      "Epoch 79, CIFAR-10 Batch 2:  Loss=  2.42588e-06     Validation Accuracy=  0.7946\n",
      "Epoch 79, CIFAR-10 Batch 3:  Loss=  2.61957e-06     Validation Accuracy=  0.796\n",
      "Epoch 79, CIFAR-10 Batch 4:  Loss=  0.000907259     Validation Accuracy=  0.7846\n",
      "Epoch 79, CIFAR-10 Batch 5:  Loss=  1.77825e-05     Validation Accuracy=  0.7906\n",
      "Epoch 80, CIFAR-10 Batch 1:  Loss=  7.72826e-05     Validation Accuracy=  0.791\n",
      "Epoch 80, CIFAR-10 Batch 2:  Loss=  0.000220954     Validation Accuracy=  0.788\n",
      "Epoch 80, CIFAR-10 Batch 3:  Loss=  5.86192e-06     Validation Accuracy=  0.7856\n",
      "Epoch 80, CIFAR-10 Batch 4:  Loss=  4.55139e-05     Validation Accuracy=  0.7852\n",
      "Epoch 80, CIFAR-10 Batch 5:  Loss=  8.02295e-05     Validation Accuracy=  0.777\n",
      "Epoch 81, CIFAR-10 Batch 1:  Loss=  0.000548843     Validation Accuracy=  0.7896\n",
      "Epoch 81, CIFAR-10 Batch 2:  Loss=  0.000111735     Validation Accuracy=  0.7908\n",
      "Epoch 81, CIFAR-10 Batch 3:  Loss=  2.21963e-05     Validation Accuracy=  0.789\n",
      "Epoch 81, CIFAR-10 Batch 4:  Loss=  2.69812e-05     Validation Accuracy=  0.7876\n",
      "Epoch 81, CIFAR-10 Batch 5:  Loss=  1.5609e-05     Validation Accuracy=  0.7926\n",
      "Epoch 82, CIFAR-10 Batch 1:  Loss=  4.69242e-05     Validation Accuracy=  0.7898\n",
      "Epoch 82, CIFAR-10 Batch 2:  Loss=  1.1593e-06     Validation Accuracy=  0.7922\n",
      "Epoch 82, CIFAR-10 Batch 3:  Loss=  3.87464e-05     Validation Accuracy=  0.7832\n",
      "Epoch 82, CIFAR-10 Batch 4:  Loss=  0.00139509     Validation Accuracy=  0.7878\n",
      "Epoch 82, CIFAR-10 Batch 5:  Loss=  6.86361e-05     Validation Accuracy=  0.7846\n",
      "Epoch 83, CIFAR-10 Batch 1:  Loss=  7.11711e-05     Validation Accuracy=  0.7852\n",
      "Epoch 83, CIFAR-10 Batch 2:  Loss=  4.48812e-06     Validation Accuracy=  0.7814\n",
      "Epoch 83, CIFAR-10 Batch 3:  Loss=  0.000178368     Validation Accuracy=  0.786\n",
      "Epoch 83, CIFAR-10 Batch 4:  Loss=  1.96928e-05     Validation Accuracy=  0.7872\n",
      "Epoch 83, CIFAR-10 Batch 5:  Loss=  3.93973e-06     Validation Accuracy=  0.7782\n",
      "Epoch 84, CIFAR-10 Batch 1:  Loss=  0.000581026     Validation Accuracy=  0.781\n",
      "Epoch 84, CIFAR-10 Batch 2:  Loss=  0.000191072     Validation Accuracy=  0.7894\n",
      "Epoch 84, CIFAR-10 Batch 3:  Loss=  4.07163e-05     Validation Accuracy=  0.7892\n",
      "Epoch 84, CIFAR-10 Batch 4:  Loss=  0.000489414     Validation Accuracy=  0.7858\n",
      "Epoch 84, CIFAR-10 Batch 5:  Loss=  4.16921e-06     Validation Accuracy=  0.7828\n",
      "Epoch 85, CIFAR-10 Batch 1:  Loss=  6.56343e-05     Validation Accuracy=  0.7886\n",
      "Epoch 85, CIFAR-10 Batch 2:  Loss=  1.46135e-05     Validation Accuracy=  0.791\n",
      "Epoch 85, CIFAR-10 Batch 3:  Loss=  3.19644e-05     Validation Accuracy=  0.7878\n",
      "Epoch 85, CIFAR-10 Batch 4:  Loss=  6.09026e-05     Validation Accuracy=  0.793\n",
      "Epoch 85, CIFAR-10 Batch 5:  Loss=  1.65104e-06     Validation Accuracy=  0.7884\n",
      "Epoch 86, CIFAR-10 Batch 1:  Loss=  0.00271657     Validation Accuracy=  0.7886\n",
      "Epoch 86, CIFAR-10 Batch 2:  Loss=  3.52855e-05     Validation Accuracy=  0.797\n",
      "Epoch 86, CIFAR-10 Batch 3:  Loss=  8.85126e-07     Validation Accuracy=  0.7906\n",
      "Epoch 86, CIFAR-10 Batch 4:  Loss=  1.86149e-05     Validation Accuracy=  0.7876\n",
      "Epoch 86, CIFAR-10 Batch 5:  Loss=  1.57253e-05     Validation Accuracy=  0.7832\n",
      "Epoch 87, CIFAR-10 Batch 1:  Loss=  8.87721e-05     Validation Accuracy=  0.789\n",
      "Epoch 87, CIFAR-10 Batch 2:  Loss=  2.082e-05     Validation Accuracy=  0.7904\n",
      "Epoch 87, CIFAR-10 Batch 3:  Loss=  0.000223481     Validation Accuracy=  0.7764\n",
      "Epoch 87, CIFAR-10 Batch 4:  Loss=  0.000180805     Validation Accuracy=  0.7948\n",
      "Epoch 87, CIFAR-10 Batch 5:  Loss=  9.14094e-05     Validation Accuracy=  0.7854\n",
      "Epoch 88, CIFAR-10 Batch 1:  Loss=  8.48905e-05     Validation Accuracy=  0.7846\n",
      "Epoch 88, CIFAR-10 Batch 2:  Loss=  0.000184295     Validation Accuracy=  0.784\n",
      "Epoch 88, CIFAR-10 Batch 3:  Loss=  0.0182137     Validation Accuracy=  0.7848\n",
      "Epoch 88, CIFAR-10 Batch 4:  Loss=  0.000193877     Validation Accuracy=  0.7796\n",
      "Epoch 88, CIFAR-10 Batch 5:  Loss=  0.000686613     Validation Accuracy=  0.794\n",
      "Epoch 89, CIFAR-10 Batch 1:  Loss=  2.60818e-05     Validation Accuracy=  0.7874\n",
      "Epoch 89, CIFAR-10 Batch 2:  Loss=  4.71161e-05     Validation Accuracy=  0.7928\n",
      "Epoch 89, CIFAR-10 Batch 3:  Loss=  1.43654e-05     Validation Accuracy=  0.791\n",
      "Epoch 89, CIFAR-10 Batch 4:  Loss=  6.04621e-06     Validation Accuracy=  0.7842\n",
      "Epoch 89, CIFAR-10 Batch 5:  Loss=  5.18525e-06     Validation Accuracy=  0.7884\n",
      "Epoch 90, CIFAR-10 Batch 1:  Loss=  0.000244947     Validation Accuracy=  0.7912\n",
      "Epoch 90, CIFAR-10 Batch 2:  Loss=  0.000251718     Validation Accuracy=  0.785\n",
      "Epoch 90, CIFAR-10 Batch 3:  Loss=  9.47711e-07     Validation Accuracy=  0.7902\n",
      "Epoch 90, CIFAR-10 Batch 4:  Loss=  9.13986e-06     Validation Accuracy=  0.7846\n",
      "Epoch 90, CIFAR-10 Batch 5:  Loss=  1.67283e-05     Validation Accuracy=  0.7806\n",
      "\n",
      "Total Training Time  5749.917734622955\n"
     ]
    }
   ],
   "source": [
    "# Little add-on to enhance the monitoring\n",
    "import time\n",
    "start_time = time.time()\n",
    "\n",
    "\"\"\"\n",
    "DON'T MODIFY ANYTHING IN THIS CELL\n",
    "\"\"\"\n",
    "save_model_path = './image_classification'\n",
    "\n",
    "print('Training...')\n",
    "with tf.Session() as sess:\n",
    "    # Initializing the variables\n",
    "    sess.run(tf.global_variables_initializer())\n",
    "    \n",
    "    # Training cycle\n",
    "    for epoch in range(epochs):\n",
    "        # Loop over all batches\n",
    "        n_batches = 5\n",
    "        epoch_start= time.time()     # Little add-on to enhance the monitoring\n",
    "        for batch_i in range(1, n_batches + 1):\n",
    "            for batch_features, batch_labels in helper.load_preprocess_training_batch(batch_i, batch_size):\n",
    "                train_neural_network(sess, optimizer, keep_probability, batch_features, batch_labels)\n",
    "            print('Epoch {:>2}, CIFAR-10 Batch {}:  '.format(epoch + 1, batch_i), end='')\n",
    "            print_stats(sess, batch_features, batch_labels, cost, accuracy)\n",
    "            \n",
    "        # Little add-on to enhance the monitoring (Get to know the time to train one epoch)\n",
    "        elapsed_time =  time.time() - epoch_start \n",
    "        if (epoch==0): print(\"Epoch Running Time : \" , elapsed_time)\n",
    "            \n",
    "    # Save Model\n",
    "    saver = tf.train.Saver()\n",
    "    save_path = saver.save(sess, save_model_path)\n",
    "    \n",
    "# Little add-on to enhance the monitoring       \n",
    "train_time = time.time() - start_time\n",
    "print(\"\\nTotal Training Time \" ,  train_time)"
   ]
  },
  {
   "cell_type": "markdown",
   "metadata": {
    "deletable": true,
    "editable": true
   },
   "source": [
    "# Checkpoint\n",
    "The model has been saved to disk.\n",
    "## Test Model\n",
    "Test your model against the test dataset.  This will be your final accuracy. You should have an accuracy greater than 50%. If you don't, keep tweaking the model architecture and parameters."
   ]
  },
  {
   "cell_type": "code",
   "execution_count": 21,
   "metadata": {
    "collapsed": false,
    "deletable": true,
    "editable": true
   },
   "outputs": [
    {
     "name": "stdout",
     "output_type": "stream",
     "text": [
      "Testing Accuracy: 0.78408203125\n",
      "\n"
     ]
    },
    {
     "data": {
      "image/png": "[encoded data removed]",
      "text/plain": [
       "<matplotlib.figure.Figure at 0x7fa7b6457828>"
      ]
     },
     "metadata": {
      "image/png": {
       "height": 319,
       "width": 355
      }
     },
     "output_type": "display_data"
    }
   ],
   "source": [
    "\"\"\"\n",
    "DON'T MODIFY ANYTHING IN THIS CELL\n",
    "\"\"\"\n",
    "%matplotlib inline\n",
    "%config InlineBackend.figure_format = 'retina'\n",
    "\n",
    "import tensorflow as tf\n",
    "import pickle\n",
    "import helper\n",
    "import random\n",
    "\n",
    "# Set batch size if not already set\n",
    "try:\n",
    "    if batch_size:\n",
    "        pass\n",
    "except NameError:\n",
    "    batch_size = 64\n",
    "\n",
    "save_model_path = './image_classification'\n",
    "n_samples = 4\n",
    "top_n_predictions = 3\n",
    "\n",
    "def test_model():\n",
    "    \"\"\"\n",
    "    Test the saved model against the test dataset\n",
    "    \"\"\"\n",
    "\n",
    "    test_features, test_labels = pickle.load(open('preprocess_test.p', mode='rb'))\n",
    "    loaded_graph = tf.Graph()\n",
    "\n",
    "    with tf.Session(graph=loaded_graph) as sess:\n",
    "        # Load model\n",
    "        loader = tf.train.import_meta_graph(save_model_path + '.meta')\n",
    "        loader.restore(sess, save_model_path)\n",
    "\n",
    "        # Get Tensors from loaded model\n",
    "        loaded_x = loaded_graph.get_tensor_by_name('x:0')\n",
    "        loaded_y = loaded_graph.get_tensor_by_name('y:0')\n",
    "        loaded_keep_prob = loaded_graph.get_tensor_by_name('keep_prob:0')\n",
    "        loaded_logits = loaded_graph.get_tensor_by_name('logits:0')\n",
    "        loaded_acc = loaded_graph.get_tensor_by_name('accuracy:0')\n",
    "        \n",
    "        # Get accuracy in batches for memory limitations\n",
    "        test_batch_acc_total = 0\n",
    "        test_batch_count = 0\n",
    "        \n",
    "        for test_feature_batch, test_label_batch in helper.batch_features_labels(test_features, test_labels, batch_size):\n",
    "            test_batch_acc_total += sess.run(\n",
    "                loaded_acc,\n",
    "                feed_dict={loaded_x: test_feature_batch, loaded_y: test_label_batch, loaded_keep_prob: 1.0})\n",
    "            test_batch_count += 1\n",
    "\n",
    "        print('Testing Accuracy: {}\\n'.format(test_batch_acc_total/test_batch_count))\n",
    "\n",
    "        # Print Random Samples\n",
    "        random_test_features, random_test_labels = tuple(zip(*random.sample(list(zip(test_features, test_labels)), n_samples)))\n",
    "        random_test_predictions = sess.run(\n",
    "            tf.nn.top_k(tf.nn.softmax(loaded_logits), top_n_predictions),\n",
    "            feed_dict={loaded_x: random_test_features, loaded_y: random_test_labels, loaded_keep_prob: 1.0})\n",
    "        helper.display_image_predictions(random_test_features, random_test_labels, random_test_predictions)\n",
    "\n",
    "\n",
    "test_model()"
   ]
  },
  {
   "cell_type": "markdown",
   "metadata": {
    "deletable": true,
    "editable": true
   },
   "source": [
    "## Why 50-80% Accuracy?\n",
    "You might be wondering why you can't get an accuracy any higher. First things first, 50% isn't bad for a simple CNN.  Pure guessing would get you 10% accuracy. However, you might notice people are getting scores [well above 80%](http://rodrigob.github.io/are_we_there_yet/build/classification_datasets_results.html#43494641522d3130).  That's because we haven't taught you all there is to know about neural networks. We still need to cover a few more techniques.\n",
    "## Submitting This Project\n",
    "When submitting this project, make sure to run all the cells before saving the notebook.  Save the notebook file as \"dlnd_image_classification.ipynb\" and save it as a HTML file under \"File\" -> \"Download as\".  Include the \"helper.py\" and \"problem_unittests.py\" files in your submission."
   ]
  },
  {
   "cell_type": "code",
   "execution_count": null,
   "metadata": {
    "collapsed": true,
    "deletable": true,
    "editable": true
   },
   "outputs": [],
   "source": []
  },
  {
   "cell_type": "code",
   "execution_count": null,
   "metadata": {
    "collapsed": true,
    "deletable": true,
    "editable": true
   },
   "outputs": [],
   "source": []
  }
 ],
 "metadata": {
  "kernelspec": {
   "display_name": "Python 3",
   "language": "python",
   "name": "python3"
  },
  "language_info": {
   "codemirror_mode": {
    "name": "ipython",
    "version": 3
   },
   "file_extension": ".py",
   "mimetype": "text/x-python",
   "name": "python",
   "nbconvert_exporter": "python",
   "pygments_lexer": "ipython3",
   "version": "3.5.3"
  }
 },
 "nbformat": 4,
 "nbformat_minor": 0
}
